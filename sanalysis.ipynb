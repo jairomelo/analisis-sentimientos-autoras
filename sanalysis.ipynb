{
 "cells": [
  {
   "cell_type": "code",
   "execution_count": 1,
   "metadata": {},
   "outputs": [
    {
     "name": "stderr",
     "output_type": "stream",
     "text": [
      "/Users/jairoantonio/Documents/proyectos/análisis_sentimientos/sentiment/lib/python3.10/site-packages/tqdm/auto.py:22: TqdmWarning: IProgress not found. Please update jupyter and ipywidgets. See https://ipywidgets.readthedocs.io/en/stable/user_install.html\n",
      "  from .autonotebook import tqdm as notebook_tqdm\n",
      "2022-11-14 16:28:40.079851: I tensorflow/core/platform/cpu_feature_guard.cc:193] This TensorFlow binary is optimized with oneAPI Deep Neural Network Library (oneDNN) to use the following CPU instructions in performance-critical operations:  AVX2 FMA\n",
      "To enable them in other operations, rebuild TensorFlow with the appropriate compiler flags.\n"
     ]
    }
   ],
   "source": [
    "from transformers import pipeline\n",
    "import pandas as pd\n",
    "import numpy as np\n",
    "import plotly.express as px\n",
    "import os"
   ]
  },
  {
   "cell_type": "code",
   "execution_count": 2,
   "metadata": {},
   "outputs": [
    {
     "name": "stderr",
     "output_type": "stream",
     "text": [
      "Downloading: 100%|██████████| 1.35k/1.35k [00:00<00:00, 325kB/s]\n",
      "2022-11-14 16:28:48.439921: I tensorflow/core/platform/cpu_feature_guard.cc:193] This TensorFlow binary is optimized with oneAPI Deep Neural Network Library (oneDNN) to use the following CPU instructions in performance-critical operations:  AVX2 FMA\n",
      "To enable them in other operations, rebuild TensorFlow with the appropriate compiler flags.\n",
      "All model checkpoint layers were used when initializing TFRobertaForSequenceClassification.\n",
      "\n",
      "All the layers of TFRobertaForSequenceClassification were initialized from the model checkpoint at pysentimiento/robertuito-sentiment-analysis.\n",
      "If your task is similar to the task the model of the checkpoint was trained on, you can already use TFRobertaForSequenceClassification for predictions without further training.\n"
     ]
    }
   ],
   "source": [
    "sentiment_pipeline = pipeline(model=\"pysentimiento/robertuito-sentiment-analysis\")"
   ]
  },
  {
   "cell_type": "code",
   "execution_count": 3,
   "metadata": {},
   "outputs": [],
   "source": [
    "cuento_or = pd.read_csv(\"data/sample/RC-lecciondecocina.csv\")\n",
    "titul_cuento = \"Lección de cocina\"\n",
    "autora = \"Rosario Castellanos\"\n",
    "\n",
    "# list columns except for the first one\n",
    "cols = list(cuento_or.columns)[1:]\n",
    "\n",
    "cuento = cuento_or.copy()\n"
   ]
  },
  {
   "cell_type": "code",
   "execution_count": 4,
   "metadata": {},
   "outputs": [
    {
     "name": "stdout",
     "output_type": "stream",
     "text": [
      "Analizando columna s001\n",
      "Analizando columna s002\n",
      "Analizando columna s003\n",
      "Analizando columna s004\n",
      "Analizando columna s005\n",
      "Analizando columna s006\n",
      "Analizando columna s007\n",
      "Analizando columna s008\n",
      "Analizando columna s009\n",
      "Analizando columna s010\n",
      "Analizando columna s011\n",
      "Analizando columna s012\n",
      "Analizando columna s013\n",
      "Analizando columna s014\n",
      "Analizando columna s015\n",
      "Analizando columna s016\n",
      "Analizando columna s017\n"
     ]
    }
   ],
   "source": [
    "# replace values with sentiment analysis\n",
    "for col in cols:\n",
    "    print(f\"Analizando columna {col}\")\n",
    "    cuento[col] = cuento[col].apply(lambda x: sentiment_pipeline(x)[0][\"label\"] if isinstance(x, str) else np.nan)\n",
    "\n"
   ]
  },
  {
   "cell_type": "code",
   "execution_count": 5,
   "metadata": {},
   "outputs": [
    {
     "data": {
      "text/html": [
       "<div>\n",
       "<style scoped>\n",
       "    .dataframe tbody tr th:only-of-type {\n",
       "        vertical-align: middle;\n",
       "    }\n",
       "\n",
       "    .dataframe tbody tr th {\n",
       "        vertical-align: top;\n",
       "    }\n",
       "\n",
       "    .dataframe thead th {\n",
       "        text-align: right;\n",
       "    }\n",
       "</style>\n",
       "<table border=\"1\" class=\"dataframe\">\n",
       "  <thead>\n",
       "    <tr style=\"text-align: right;\">\n",
       "      <th></th>\n",
       "      <th>parrafo</th>\n",
       "      <th>s001</th>\n",
       "      <th>s002</th>\n",
       "      <th>s003</th>\n",
       "      <th>s004</th>\n",
       "      <th>s005</th>\n",
       "      <th>s006</th>\n",
       "      <th>s007</th>\n",
       "      <th>s008</th>\n",
       "      <th>s009</th>\n",
       "      <th>s010</th>\n",
       "      <th>s011</th>\n",
       "      <th>s012</th>\n",
       "      <th>s013</th>\n",
       "      <th>s014</th>\n",
       "      <th>s015</th>\n",
       "      <th>s016</th>\n",
       "      <th>s017</th>\n",
       "    </tr>\n",
       "  </thead>\n",
       "  <tbody>\n",
       "    <tr>\n",
       "      <th>0</th>\n",
       "      <td>p001</td>\n",
       "      <td>0</td>\n",
       "      <td>-1.0</td>\n",
       "      <td>0.0</td>\n",
       "      <td>0.0</td>\n",
       "      <td>-1.0</td>\n",
       "      <td>0.0</td>\n",
       "      <td>0.0</td>\n",
       "      <td>0.0</td>\n",
       "      <td>0.0</td>\n",
       "      <td>-1.0</td>\n",
       "      <td>0.0</td>\n",
       "      <td>0.0</td>\n",
       "      <td>0.0</td>\n",
       "      <td>1.0</td>\n",
       "      <td>NaN</td>\n",
       "      <td>NaN</td>\n",
       "      <td>NaN</td>\n",
       "    </tr>\n",
       "    <tr>\n",
       "      <th>1</th>\n",
       "      <td>p002</td>\n",
       "      <td>0</td>\n",
       "      <td>0.0</td>\n",
       "      <td>0.0</td>\n",
       "      <td>0.0</td>\n",
       "      <td>-1.0</td>\n",
       "      <td>0.0</td>\n",
       "      <td>0.0</td>\n",
       "      <td>0.0</td>\n",
       "      <td>0.0</td>\n",
       "      <td>-1.0</td>\n",
       "      <td>0.0</td>\n",
       "      <td>0.0</td>\n",
       "      <td>-1.0</td>\n",
       "      <td>-1.0</td>\n",
       "      <td>-1.0</td>\n",
       "      <td>-1.0</td>\n",
       "      <td>0.0</td>\n",
       "    </tr>\n",
       "    <tr>\n",
       "      <th>2</th>\n",
       "      <td>p003</td>\n",
       "      <td>0</td>\n",
       "      <td>0.0</td>\n",
       "      <td>1.0</td>\n",
       "      <td>1.0</td>\n",
       "      <td>-1.0</td>\n",
       "      <td>NaN</td>\n",
       "      <td>NaN</td>\n",
       "      <td>NaN</td>\n",
       "      <td>NaN</td>\n",
       "      <td>NaN</td>\n",
       "      <td>NaN</td>\n",
       "      <td>NaN</td>\n",
       "      <td>NaN</td>\n",
       "      <td>NaN</td>\n",
       "      <td>NaN</td>\n",
       "      <td>NaN</td>\n",
       "      <td>NaN</td>\n",
       "    </tr>\n",
       "    <tr>\n",
       "      <th>3</th>\n",
       "      <td>p004</td>\n",
       "      <td>-1</td>\n",
       "      <td>0.0</td>\n",
       "      <td>NaN</td>\n",
       "      <td>NaN</td>\n",
       "      <td>NaN</td>\n",
       "      <td>NaN</td>\n",
       "      <td>NaN</td>\n",
       "      <td>NaN</td>\n",
       "      <td>NaN</td>\n",
       "      <td>NaN</td>\n",
       "      <td>NaN</td>\n",
       "      <td>NaN</td>\n",
       "      <td>NaN</td>\n",
       "      <td>NaN</td>\n",
       "      <td>NaN</td>\n",
       "      <td>NaN</td>\n",
       "      <td>NaN</td>\n",
       "    </tr>\n",
       "    <tr>\n",
       "      <th>4</th>\n",
       "      <td>p005</td>\n",
       "      <td>0</td>\n",
       "      <td>-1.0</td>\n",
       "      <td>NaN</td>\n",
       "      <td>NaN</td>\n",
       "      <td>NaN</td>\n",
       "      <td>NaN</td>\n",
       "      <td>NaN</td>\n",
       "      <td>NaN</td>\n",
       "      <td>NaN</td>\n",
       "      <td>NaN</td>\n",
       "      <td>NaN</td>\n",
       "      <td>NaN</td>\n",
       "      <td>NaN</td>\n",
       "      <td>NaN</td>\n",
       "      <td>NaN</td>\n",
       "      <td>NaN</td>\n",
       "      <td>NaN</td>\n",
       "    </tr>\n",
       "    <tr>\n",
       "      <th>5</th>\n",
       "      <td>p006</td>\n",
       "      <td>-1</td>\n",
       "      <td>0.0</td>\n",
       "      <td>NaN</td>\n",
       "      <td>NaN</td>\n",
       "      <td>NaN</td>\n",
       "      <td>NaN</td>\n",
       "      <td>NaN</td>\n",
       "      <td>NaN</td>\n",
       "      <td>NaN</td>\n",
       "      <td>NaN</td>\n",
       "      <td>NaN</td>\n",
       "      <td>NaN</td>\n",
       "      <td>NaN</td>\n",
       "      <td>NaN</td>\n",
       "      <td>NaN</td>\n",
       "      <td>NaN</td>\n",
       "      <td>NaN</td>\n",
       "    </tr>\n",
       "    <tr>\n",
       "      <th>6</th>\n",
       "      <td>p007</td>\n",
       "      <td>0</td>\n",
       "      <td>0.0</td>\n",
       "      <td>NaN</td>\n",
       "      <td>NaN</td>\n",
       "      <td>NaN</td>\n",
       "      <td>NaN</td>\n",
       "      <td>NaN</td>\n",
       "      <td>NaN</td>\n",
       "      <td>NaN</td>\n",
       "      <td>NaN</td>\n",
       "      <td>NaN</td>\n",
       "      <td>NaN</td>\n",
       "      <td>NaN</td>\n",
       "      <td>NaN</td>\n",
       "      <td>NaN</td>\n",
       "      <td>NaN</td>\n",
       "      <td>NaN</td>\n",
       "    </tr>\n",
       "    <tr>\n",
       "      <th>7</th>\n",
       "      <td>p008</td>\n",
       "      <td>-1</td>\n",
       "      <td>-1.0</td>\n",
       "      <td>0.0</td>\n",
       "      <td>0.0</td>\n",
       "      <td>0.0</td>\n",
       "      <td>0.0</td>\n",
       "      <td>NaN</td>\n",
       "      <td>NaN</td>\n",
       "      <td>NaN</td>\n",
       "      <td>NaN</td>\n",
       "      <td>NaN</td>\n",
       "      <td>NaN</td>\n",
       "      <td>NaN</td>\n",
       "      <td>NaN</td>\n",
       "      <td>NaN</td>\n",
       "      <td>NaN</td>\n",
       "      <td>NaN</td>\n",
       "    </tr>\n",
       "    <tr>\n",
       "      <th>8</th>\n",
       "      <td>p009</td>\n",
       "      <td>-1</td>\n",
       "      <td>-1.0</td>\n",
       "      <td>0.0</td>\n",
       "      <td>-1.0</td>\n",
       "      <td>0.0</td>\n",
       "      <td>NaN</td>\n",
       "      <td>NaN</td>\n",
       "      <td>NaN</td>\n",
       "      <td>NaN</td>\n",
       "      <td>NaN</td>\n",
       "      <td>NaN</td>\n",
       "      <td>NaN</td>\n",
       "      <td>NaN</td>\n",
       "      <td>NaN</td>\n",
       "      <td>NaN</td>\n",
       "      <td>NaN</td>\n",
       "      <td>NaN</td>\n",
       "    </tr>\n",
       "    <tr>\n",
       "      <th>9</th>\n",
       "      <td>p010</td>\n",
       "      <td>-1</td>\n",
       "      <td>-1.0</td>\n",
       "      <td>NaN</td>\n",
       "      <td>NaN</td>\n",
       "      <td>NaN</td>\n",
       "      <td>NaN</td>\n",
       "      <td>NaN</td>\n",
       "      <td>NaN</td>\n",
       "      <td>NaN</td>\n",
       "      <td>NaN</td>\n",
       "      <td>NaN</td>\n",
       "      <td>NaN</td>\n",
       "      <td>NaN</td>\n",
       "      <td>NaN</td>\n",
       "      <td>NaN</td>\n",
       "      <td>NaN</td>\n",
       "      <td>NaN</td>\n",
       "    </tr>\n",
       "    <tr>\n",
       "      <th>10</th>\n",
       "      <td>p011</td>\n",
       "      <td>0</td>\n",
       "      <td>0.0</td>\n",
       "      <td>-1.0</td>\n",
       "      <td>NaN</td>\n",
       "      <td>NaN</td>\n",
       "      <td>NaN</td>\n",
       "      <td>NaN</td>\n",
       "      <td>NaN</td>\n",
       "      <td>NaN</td>\n",
       "      <td>NaN</td>\n",
       "      <td>NaN</td>\n",
       "      <td>NaN</td>\n",
       "      <td>NaN</td>\n",
       "      <td>NaN</td>\n",
       "      <td>NaN</td>\n",
       "      <td>NaN</td>\n",
       "      <td>NaN</td>\n",
       "    </tr>\n",
       "    <tr>\n",
       "      <th>11</th>\n",
       "      <td>p012</td>\n",
       "      <td>0</td>\n",
       "      <td>-1.0</td>\n",
       "      <td>0.0</td>\n",
       "      <td>NaN</td>\n",
       "      <td>NaN</td>\n",
       "      <td>NaN</td>\n",
       "      <td>NaN</td>\n",
       "      <td>NaN</td>\n",
       "      <td>NaN</td>\n",
       "      <td>NaN</td>\n",
       "      <td>NaN</td>\n",
       "      <td>NaN</td>\n",
       "      <td>NaN</td>\n",
       "      <td>NaN</td>\n",
       "      <td>NaN</td>\n",
       "      <td>NaN</td>\n",
       "      <td>NaN</td>\n",
       "    </tr>\n",
       "    <tr>\n",
       "      <th>12</th>\n",
       "      <td>p013</td>\n",
       "      <td>-1</td>\n",
       "      <td>0.0</td>\n",
       "      <td>0.0</td>\n",
       "      <td>-1.0</td>\n",
       "      <td>0.0</td>\n",
       "      <td>1.0</td>\n",
       "      <td>-1.0</td>\n",
       "      <td>0.0</td>\n",
       "      <td>0.0</td>\n",
       "      <td>-1.0</td>\n",
       "      <td>NaN</td>\n",
       "      <td>NaN</td>\n",
       "      <td>NaN</td>\n",
       "      <td>NaN</td>\n",
       "      <td>NaN</td>\n",
       "      <td>NaN</td>\n",
       "      <td>NaN</td>\n",
       "    </tr>\n",
       "    <tr>\n",
       "      <th>13</th>\n",
       "      <td>p014</td>\n",
       "      <td>0</td>\n",
       "      <td>NaN</td>\n",
       "      <td>NaN</td>\n",
       "      <td>NaN</td>\n",
       "      <td>NaN</td>\n",
       "      <td>NaN</td>\n",
       "      <td>NaN</td>\n",
       "      <td>NaN</td>\n",
       "      <td>NaN</td>\n",
       "      <td>NaN</td>\n",
       "      <td>NaN</td>\n",
       "      <td>NaN</td>\n",
       "      <td>NaN</td>\n",
       "      <td>NaN</td>\n",
       "      <td>NaN</td>\n",
       "      <td>NaN</td>\n",
       "      <td>NaN</td>\n",
       "    </tr>\n",
       "    <tr>\n",
       "      <th>14</th>\n",
       "      <td>p015</td>\n",
       "      <td>0</td>\n",
       "      <td>NaN</td>\n",
       "      <td>NaN</td>\n",
       "      <td>NaN</td>\n",
       "      <td>NaN</td>\n",
       "      <td>NaN</td>\n",
       "      <td>NaN</td>\n",
       "      <td>NaN</td>\n",
       "      <td>NaN</td>\n",
       "      <td>NaN</td>\n",
       "      <td>NaN</td>\n",
       "      <td>NaN</td>\n",
       "      <td>NaN</td>\n",
       "      <td>NaN</td>\n",
       "      <td>NaN</td>\n",
       "      <td>NaN</td>\n",
       "      <td>NaN</td>\n",
       "    </tr>\n",
       "    <tr>\n",
       "      <th>15</th>\n",
       "      <td>p016</td>\n",
       "      <td>0</td>\n",
       "      <td>0.0</td>\n",
       "      <td>-1.0</td>\n",
       "      <td>-1.0</td>\n",
       "      <td>-1.0</td>\n",
       "      <td>0.0</td>\n",
       "      <td>-1.0</td>\n",
       "      <td>NaN</td>\n",
       "      <td>NaN</td>\n",
       "      <td>NaN</td>\n",
       "      <td>NaN</td>\n",
       "      <td>NaN</td>\n",
       "      <td>NaN</td>\n",
       "      <td>NaN</td>\n",
       "      <td>NaN</td>\n",
       "      <td>NaN</td>\n",
       "      <td>NaN</td>\n",
       "    </tr>\n",
       "    <tr>\n",
       "      <th>16</th>\n",
       "      <td>p017</td>\n",
       "      <td>-1</td>\n",
       "      <td>-1.0</td>\n",
       "      <td>0.0</td>\n",
       "      <td>NaN</td>\n",
       "      <td>NaN</td>\n",
       "      <td>NaN</td>\n",
       "      <td>NaN</td>\n",
       "      <td>NaN</td>\n",
       "      <td>NaN</td>\n",
       "      <td>NaN</td>\n",
       "      <td>NaN</td>\n",
       "      <td>NaN</td>\n",
       "      <td>NaN</td>\n",
       "      <td>NaN</td>\n",
       "      <td>NaN</td>\n",
       "      <td>NaN</td>\n",
       "      <td>NaN</td>\n",
       "    </tr>\n",
       "    <tr>\n",
       "      <th>17</th>\n",
       "      <td>p018</td>\n",
       "      <td>-1</td>\n",
       "      <td>NaN</td>\n",
       "      <td>NaN</td>\n",
       "      <td>NaN</td>\n",
       "      <td>NaN</td>\n",
       "      <td>NaN</td>\n",
       "      <td>NaN</td>\n",
       "      <td>NaN</td>\n",
       "      <td>NaN</td>\n",
       "      <td>NaN</td>\n",
       "      <td>NaN</td>\n",
       "      <td>NaN</td>\n",
       "      <td>NaN</td>\n",
       "      <td>NaN</td>\n",
       "      <td>NaN</td>\n",
       "      <td>NaN</td>\n",
       "      <td>NaN</td>\n",
       "    </tr>\n",
       "    <tr>\n",
       "      <th>18</th>\n",
       "      <td>p019</td>\n",
       "      <td>0</td>\n",
       "      <td>0.0</td>\n",
       "      <td>-1.0</td>\n",
       "      <td>0.0</td>\n",
       "      <td>0.0</td>\n",
       "      <td>-1.0</td>\n",
       "      <td>0.0</td>\n",
       "      <td>0.0</td>\n",
       "      <td>-1.0</td>\n",
       "      <td>-1.0</td>\n",
       "      <td>NaN</td>\n",
       "      <td>NaN</td>\n",
       "      <td>NaN</td>\n",
       "      <td>NaN</td>\n",
       "      <td>NaN</td>\n",
       "      <td>NaN</td>\n",
       "      <td>NaN</td>\n",
       "    </tr>\n",
       "    <tr>\n",
       "      <th>19</th>\n",
       "      <td>p020</td>\n",
       "      <td>0</td>\n",
       "      <td>0.0</td>\n",
       "      <td>0.0</td>\n",
       "      <td>1.0</td>\n",
       "      <td>0.0</td>\n",
       "      <td>NaN</td>\n",
       "      <td>NaN</td>\n",
       "      <td>NaN</td>\n",
       "      <td>NaN</td>\n",
       "      <td>NaN</td>\n",
       "      <td>NaN</td>\n",
       "      <td>NaN</td>\n",
       "      <td>NaN</td>\n",
       "      <td>NaN</td>\n",
       "      <td>NaN</td>\n",
       "      <td>NaN</td>\n",
       "      <td>NaN</td>\n",
       "    </tr>\n",
       "    <tr>\n",
       "      <th>20</th>\n",
       "      <td>p021</td>\n",
       "      <td>0</td>\n",
       "      <td>-1.0</td>\n",
       "      <td>0.0</td>\n",
       "      <td>0.0</td>\n",
       "      <td>0.0</td>\n",
       "      <td>0.0</td>\n",
       "      <td>0.0</td>\n",
       "      <td>NaN</td>\n",
       "      <td>NaN</td>\n",
       "      <td>NaN</td>\n",
       "      <td>NaN</td>\n",
       "      <td>NaN</td>\n",
       "      <td>NaN</td>\n",
       "      <td>NaN</td>\n",
       "      <td>NaN</td>\n",
       "      <td>NaN</td>\n",
       "      <td>NaN</td>\n",
       "    </tr>\n",
       "    <tr>\n",
       "      <th>21</th>\n",
       "      <td>p022</td>\n",
       "      <td>0</td>\n",
       "      <td>0.0</td>\n",
       "      <td>NaN</td>\n",
       "      <td>NaN</td>\n",
       "      <td>NaN</td>\n",
       "      <td>NaN</td>\n",
       "      <td>NaN</td>\n",
       "      <td>NaN</td>\n",
       "      <td>NaN</td>\n",
       "      <td>NaN</td>\n",
       "      <td>NaN</td>\n",
       "      <td>NaN</td>\n",
       "      <td>NaN</td>\n",
       "      <td>NaN</td>\n",
       "      <td>NaN</td>\n",
       "      <td>NaN</td>\n",
       "      <td>NaN</td>\n",
       "    </tr>\n",
       "    <tr>\n",
       "      <th>22</th>\n",
       "      <td>p023</td>\n",
       "      <td>0</td>\n",
       "      <td>-1.0</td>\n",
       "      <td>-1.0</td>\n",
       "      <td>0.0</td>\n",
       "      <td>NaN</td>\n",
       "      <td>NaN</td>\n",
       "      <td>NaN</td>\n",
       "      <td>NaN</td>\n",
       "      <td>NaN</td>\n",
       "      <td>NaN</td>\n",
       "      <td>NaN</td>\n",
       "      <td>NaN</td>\n",
       "      <td>NaN</td>\n",
       "      <td>NaN</td>\n",
       "      <td>NaN</td>\n",
       "      <td>NaN</td>\n",
       "      <td>NaN</td>\n",
       "    </tr>\n",
       "    <tr>\n",
       "      <th>23</th>\n",
       "      <td>p024</td>\n",
       "      <td>0</td>\n",
       "      <td>0.0</td>\n",
       "      <td>0.0</td>\n",
       "      <td>-1.0</td>\n",
       "      <td>0.0</td>\n",
       "      <td>-1.0</td>\n",
       "      <td>-1.0</td>\n",
       "      <td>0.0</td>\n",
       "      <td>NaN</td>\n",
       "      <td>NaN</td>\n",
       "      <td>NaN</td>\n",
       "      <td>NaN</td>\n",
       "      <td>NaN</td>\n",
       "      <td>NaN</td>\n",
       "      <td>NaN</td>\n",
       "      <td>NaN</td>\n",
       "      <td>NaN</td>\n",
       "    </tr>\n",
       "    <tr>\n",
       "      <th>24</th>\n",
       "      <td>p025</td>\n",
       "      <td>0</td>\n",
       "      <td>-1.0</td>\n",
       "      <td>1.0</td>\n",
       "      <td>0.0</td>\n",
       "      <td>0.0</td>\n",
       "      <td>0.0</td>\n",
       "      <td>0.0</td>\n",
       "      <td>0.0</td>\n",
       "      <td>NaN</td>\n",
       "      <td>NaN</td>\n",
       "      <td>NaN</td>\n",
       "      <td>NaN</td>\n",
       "      <td>NaN</td>\n",
       "      <td>NaN</td>\n",
       "      <td>NaN</td>\n",
       "      <td>NaN</td>\n",
       "      <td>NaN</td>\n",
       "    </tr>\n",
       "    <tr>\n",
       "      <th>25</th>\n",
       "      <td>p026</td>\n",
       "      <td>0</td>\n",
       "      <td>0.0</td>\n",
       "      <td>0.0</td>\n",
       "      <td>0.0</td>\n",
       "      <td>-1.0</td>\n",
       "      <td>0.0</td>\n",
       "      <td>0.0</td>\n",
       "      <td>1.0</td>\n",
       "      <td>-1.0</td>\n",
       "      <td>NaN</td>\n",
       "      <td>NaN</td>\n",
       "      <td>NaN</td>\n",
       "      <td>NaN</td>\n",
       "      <td>NaN</td>\n",
       "      <td>NaN</td>\n",
       "      <td>NaN</td>\n",
       "      <td>NaN</td>\n",
       "    </tr>\n",
       "    <tr>\n",
       "      <th>26</th>\n",
       "      <td>p027</td>\n",
       "      <td>0</td>\n",
       "      <td>0.0</td>\n",
       "      <td>0.0</td>\n",
       "      <td>-1.0</td>\n",
       "      <td>0.0</td>\n",
       "      <td>0.0</td>\n",
       "      <td>NaN</td>\n",
       "      <td>NaN</td>\n",
       "      <td>NaN</td>\n",
       "      <td>NaN</td>\n",
       "      <td>NaN</td>\n",
       "      <td>NaN</td>\n",
       "      <td>NaN</td>\n",
       "      <td>NaN</td>\n",
       "      <td>NaN</td>\n",
       "      <td>NaN</td>\n",
       "      <td>NaN</td>\n",
       "    </tr>\n",
       "    <tr>\n",
       "      <th>27</th>\n",
       "      <td>p028</td>\n",
       "      <td>0</td>\n",
       "      <td>0.0</td>\n",
       "      <td>0.0</td>\n",
       "      <td>-1.0</td>\n",
       "      <td>NaN</td>\n",
       "      <td>NaN</td>\n",
       "      <td>NaN</td>\n",
       "      <td>NaN</td>\n",
       "      <td>NaN</td>\n",
       "      <td>NaN</td>\n",
       "      <td>NaN</td>\n",
       "      <td>NaN</td>\n",
       "      <td>NaN</td>\n",
       "      <td>NaN</td>\n",
       "      <td>NaN</td>\n",
       "      <td>NaN</td>\n",
       "      <td>NaN</td>\n",
       "    </tr>\n",
       "    <tr>\n",
       "      <th>28</th>\n",
       "      <td>p029</td>\n",
       "      <td>0</td>\n",
       "      <td>-1.0</td>\n",
       "      <td>0.0</td>\n",
       "      <td>-1.0</td>\n",
       "      <td>0.0</td>\n",
       "      <td>1.0</td>\n",
       "      <td>NaN</td>\n",
       "      <td>NaN</td>\n",
       "      <td>NaN</td>\n",
       "      <td>NaN</td>\n",
       "      <td>NaN</td>\n",
       "      <td>NaN</td>\n",
       "      <td>NaN</td>\n",
       "      <td>NaN</td>\n",
       "      <td>NaN</td>\n",
       "      <td>NaN</td>\n",
       "      <td>NaN</td>\n",
       "    </tr>\n",
       "    <tr>\n",
       "      <th>29</th>\n",
       "      <td>p030</td>\n",
       "      <td>-1</td>\n",
       "      <td>NaN</td>\n",
       "      <td>NaN</td>\n",
       "      <td>NaN</td>\n",
       "      <td>NaN</td>\n",
       "      <td>NaN</td>\n",
       "      <td>NaN</td>\n",
       "      <td>NaN</td>\n",
       "      <td>NaN</td>\n",
       "      <td>NaN</td>\n",
       "      <td>NaN</td>\n",
       "      <td>NaN</td>\n",
       "      <td>NaN</td>\n",
       "      <td>NaN</td>\n",
       "      <td>NaN</td>\n",
       "      <td>NaN</td>\n",
       "      <td>NaN</td>\n",
       "    </tr>\n",
       "    <tr>\n",
       "      <th>30</th>\n",
       "      <td>p031</td>\n",
       "      <td>0</td>\n",
       "      <td>0.0</td>\n",
       "      <td>0.0</td>\n",
       "      <td>NaN</td>\n",
       "      <td>NaN</td>\n",
       "      <td>NaN</td>\n",
       "      <td>NaN</td>\n",
       "      <td>NaN</td>\n",
       "      <td>NaN</td>\n",
       "      <td>NaN</td>\n",
       "      <td>NaN</td>\n",
       "      <td>NaN</td>\n",
       "      <td>NaN</td>\n",
       "      <td>NaN</td>\n",
       "      <td>NaN</td>\n",
       "      <td>NaN</td>\n",
       "      <td>NaN</td>\n",
       "    </tr>\n",
       "    <tr>\n",
       "      <th>31</th>\n",
       "      <td>p032</td>\n",
       "      <td>-1</td>\n",
       "      <td>0.0</td>\n",
       "      <td>-1.0</td>\n",
       "      <td>0.0</td>\n",
       "      <td>-1.0</td>\n",
       "      <td>-1.0</td>\n",
       "      <td>-1.0</td>\n",
       "      <td>NaN</td>\n",
       "      <td>NaN</td>\n",
       "      <td>NaN</td>\n",
       "      <td>NaN</td>\n",
       "      <td>NaN</td>\n",
       "      <td>NaN</td>\n",
       "      <td>NaN</td>\n",
       "      <td>NaN</td>\n",
       "      <td>NaN</td>\n",
       "      <td>NaN</td>\n",
       "    </tr>\n",
       "    <tr>\n",
       "      <th>32</th>\n",
       "      <td>p033</td>\n",
       "      <td>0</td>\n",
       "      <td>-1.0</td>\n",
       "      <td>-1.0</td>\n",
       "      <td>0.0</td>\n",
       "      <td>0.0</td>\n",
       "      <td>0.0</td>\n",
       "      <td>0.0</td>\n",
       "      <td>0.0</td>\n",
       "      <td>0.0</td>\n",
       "      <td>0.0</td>\n",
       "      <td>0.0</td>\n",
       "      <td>NaN</td>\n",
       "      <td>NaN</td>\n",
       "      <td>NaN</td>\n",
       "      <td>NaN</td>\n",
       "      <td>NaN</td>\n",
       "      <td>NaN</td>\n",
       "    </tr>\n",
       "    <tr>\n",
       "      <th>33</th>\n",
       "      <td>p034</td>\n",
       "      <td>0</td>\n",
       "      <td>-1.0</td>\n",
       "      <td>0.0</td>\n",
       "      <td>-1.0</td>\n",
       "      <td>-1.0</td>\n",
       "      <td>NaN</td>\n",
       "      <td>NaN</td>\n",
       "      <td>NaN</td>\n",
       "      <td>NaN</td>\n",
       "      <td>NaN</td>\n",
       "      <td>NaN</td>\n",
       "      <td>NaN</td>\n",
       "      <td>NaN</td>\n",
       "      <td>NaN</td>\n",
       "      <td>NaN</td>\n",
       "      <td>NaN</td>\n",
       "      <td>NaN</td>\n",
       "    </tr>\n",
       "    <tr>\n",
       "      <th>34</th>\n",
       "      <td>p035</td>\n",
       "      <td>0</td>\n",
       "      <td>0.0</td>\n",
       "      <td>1.0</td>\n",
       "      <td>0.0</td>\n",
       "      <td>NaN</td>\n",
       "      <td>NaN</td>\n",
       "      <td>NaN</td>\n",
       "      <td>NaN</td>\n",
       "      <td>NaN</td>\n",
       "      <td>NaN</td>\n",
       "      <td>NaN</td>\n",
       "      <td>NaN</td>\n",
       "      <td>NaN</td>\n",
       "      <td>NaN</td>\n",
       "      <td>NaN</td>\n",
       "      <td>NaN</td>\n",
       "      <td>NaN</td>\n",
       "    </tr>\n",
       "    <tr>\n",
       "      <th>35</th>\n",
       "      <td>p036</td>\n",
       "      <td>0</td>\n",
       "      <td>NaN</td>\n",
       "      <td>NaN</td>\n",
       "      <td>NaN</td>\n",
       "      <td>NaN</td>\n",
       "      <td>NaN</td>\n",
       "      <td>NaN</td>\n",
       "      <td>NaN</td>\n",
       "      <td>NaN</td>\n",
       "      <td>NaN</td>\n",
       "      <td>NaN</td>\n",
       "      <td>NaN</td>\n",
       "      <td>NaN</td>\n",
       "      <td>NaN</td>\n",
       "      <td>NaN</td>\n",
       "      <td>NaN</td>\n",
       "      <td>NaN</td>\n",
       "    </tr>\n",
       "    <tr>\n",
       "      <th>36</th>\n",
       "      <td>p037</td>\n",
       "      <td>0</td>\n",
       "      <td>-1.0</td>\n",
       "      <td>0.0</td>\n",
       "      <td>0.0</td>\n",
       "      <td>0.0</td>\n",
       "      <td>1.0</td>\n",
       "      <td>1.0</td>\n",
       "      <td>NaN</td>\n",
       "      <td>NaN</td>\n",
       "      <td>NaN</td>\n",
       "      <td>NaN</td>\n",
       "      <td>NaN</td>\n",
       "      <td>NaN</td>\n",
       "      <td>NaN</td>\n",
       "      <td>NaN</td>\n",
       "      <td>NaN</td>\n",
       "      <td>NaN</td>\n",
       "    </tr>\n",
       "    <tr>\n",
       "      <th>37</th>\n",
       "      <td>p038</td>\n",
       "      <td>0</td>\n",
       "      <td>0.0</td>\n",
       "      <td>0.0</td>\n",
       "      <td>0.0</td>\n",
       "      <td>0.0</td>\n",
       "      <td>0.0</td>\n",
       "      <td>NaN</td>\n",
       "      <td>NaN</td>\n",
       "      <td>NaN</td>\n",
       "      <td>NaN</td>\n",
       "      <td>NaN</td>\n",
       "      <td>NaN</td>\n",
       "      <td>NaN</td>\n",
       "      <td>NaN</td>\n",
       "      <td>NaN</td>\n",
       "      <td>NaN</td>\n",
       "      <td>NaN</td>\n",
       "    </tr>\n",
       "    <tr>\n",
       "      <th>38</th>\n",
       "      <td>p039</td>\n",
       "      <td>0</td>\n",
       "      <td>0.0</td>\n",
       "      <td>NaN</td>\n",
       "      <td>NaN</td>\n",
       "      <td>NaN</td>\n",
       "      <td>NaN</td>\n",
       "      <td>NaN</td>\n",
       "      <td>NaN</td>\n",
       "      <td>NaN</td>\n",
       "      <td>NaN</td>\n",
       "      <td>NaN</td>\n",
       "      <td>NaN</td>\n",
       "      <td>NaN</td>\n",
       "      <td>NaN</td>\n",
       "      <td>NaN</td>\n",
       "      <td>NaN</td>\n",
       "      <td>NaN</td>\n",
       "    </tr>\n",
       "    <tr>\n",
       "      <th>39</th>\n",
       "      <td>p040</td>\n",
       "      <td>0</td>\n",
       "      <td>-1.0</td>\n",
       "      <td>1.0</td>\n",
       "      <td>0.0</td>\n",
       "      <td>0.0</td>\n",
       "      <td>NaN</td>\n",
       "      <td>NaN</td>\n",
       "      <td>NaN</td>\n",
       "      <td>NaN</td>\n",
       "      <td>NaN</td>\n",
       "      <td>NaN</td>\n",
       "      <td>NaN</td>\n",
       "      <td>NaN</td>\n",
       "      <td>NaN</td>\n",
       "      <td>NaN</td>\n",
       "      <td>NaN</td>\n",
       "      <td>NaN</td>\n",
       "    </tr>\n",
       "    <tr>\n",
       "      <th>40</th>\n",
       "      <td>p041</td>\n",
       "      <td>0</td>\n",
       "      <td>0.0</td>\n",
       "      <td>-1.0</td>\n",
       "      <td>0.0</td>\n",
       "      <td>0.0</td>\n",
       "      <td>NaN</td>\n",
       "      <td>NaN</td>\n",
       "      <td>NaN</td>\n",
       "      <td>NaN</td>\n",
       "      <td>NaN</td>\n",
       "      <td>NaN</td>\n",
       "      <td>NaN</td>\n",
       "      <td>NaN</td>\n",
       "      <td>NaN</td>\n",
       "      <td>NaN</td>\n",
       "      <td>NaN</td>\n",
       "      <td>NaN</td>\n",
       "    </tr>\n",
       "    <tr>\n",
       "      <th>41</th>\n",
       "      <td>p042</td>\n",
       "      <td>0</td>\n",
       "      <td>-1.0</td>\n",
       "      <td>-1.0</td>\n",
       "      <td>-1.0</td>\n",
       "      <td>0.0</td>\n",
       "      <td>NaN</td>\n",
       "      <td>NaN</td>\n",
       "      <td>NaN</td>\n",
       "      <td>NaN</td>\n",
       "      <td>NaN</td>\n",
       "      <td>NaN</td>\n",
       "      <td>NaN</td>\n",
       "      <td>NaN</td>\n",
       "      <td>NaN</td>\n",
       "      <td>NaN</td>\n",
       "      <td>NaN</td>\n",
       "      <td>NaN</td>\n",
       "    </tr>\n",
       "    <tr>\n",
       "      <th>42</th>\n",
       "      <td>p043</td>\n",
       "      <td>0</td>\n",
       "      <td>0.0</td>\n",
       "      <td>0.0</td>\n",
       "      <td>0.0</td>\n",
       "      <td>0.0</td>\n",
       "      <td>-1.0</td>\n",
       "      <td>0.0</td>\n",
       "      <td>0.0</td>\n",
       "      <td>0.0</td>\n",
       "      <td>0.0</td>\n",
       "      <td>0.0</td>\n",
       "      <td>0.0</td>\n",
       "      <td>-1.0</td>\n",
       "      <td>-1.0</td>\n",
       "      <td>NaN</td>\n",
       "      <td>NaN</td>\n",
       "      <td>NaN</td>\n",
       "    </tr>\n",
       "    <tr>\n",
       "      <th>43</th>\n",
       "      <td>p044</td>\n",
       "      <td>0</td>\n",
       "      <td>-1.0</td>\n",
       "      <td>-1.0</td>\n",
       "      <td>-1.0</td>\n",
       "      <td>1.0</td>\n",
       "      <td>0.0</td>\n",
       "      <td>1.0</td>\n",
       "      <td>NaN</td>\n",
       "      <td>NaN</td>\n",
       "      <td>NaN</td>\n",
       "      <td>NaN</td>\n",
       "      <td>NaN</td>\n",
       "      <td>NaN</td>\n",
       "      <td>NaN</td>\n",
       "      <td>NaN</td>\n",
       "      <td>NaN</td>\n",
       "      <td>NaN</td>\n",
       "    </tr>\n",
       "    <tr>\n",
       "      <th>44</th>\n",
       "      <td>p045</td>\n",
       "      <td>0</td>\n",
       "      <td>-1.0</td>\n",
       "      <td>0.0</td>\n",
       "      <td>0.0</td>\n",
       "      <td>NaN</td>\n",
       "      <td>NaN</td>\n",
       "      <td>NaN</td>\n",
       "      <td>NaN</td>\n",
       "      <td>NaN</td>\n",
       "      <td>NaN</td>\n",
       "      <td>NaN</td>\n",
       "      <td>NaN</td>\n",
       "      <td>NaN</td>\n",
       "      <td>NaN</td>\n",
       "      <td>NaN</td>\n",
       "      <td>NaN</td>\n",
       "      <td>NaN</td>\n",
       "    </tr>\n",
       "    <tr>\n",
       "      <th>45</th>\n",
       "      <td>p046</td>\n",
       "      <td>0</td>\n",
       "      <td>0.0</td>\n",
       "      <td>-1.0</td>\n",
       "      <td>0.0</td>\n",
       "      <td>0.0</td>\n",
       "      <td>-1.0</td>\n",
       "      <td>0.0</td>\n",
       "      <td>0.0</td>\n",
       "      <td>NaN</td>\n",
       "      <td>NaN</td>\n",
       "      <td>NaN</td>\n",
       "      <td>NaN</td>\n",
       "      <td>NaN</td>\n",
       "      <td>NaN</td>\n",
       "      <td>NaN</td>\n",
       "      <td>NaN</td>\n",
       "      <td>NaN</td>\n",
       "    </tr>\n",
       "    <tr>\n",
       "      <th>46</th>\n",
       "      <td>p047</td>\n",
       "      <td>0</td>\n",
       "      <td>0.0</td>\n",
       "      <td>0.0</td>\n",
       "      <td>0.0</td>\n",
       "      <td>NaN</td>\n",
       "      <td>NaN</td>\n",
       "      <td>NaN</td>\n",
       "      <td>NaN</td>\n",
       "      <td>NaN</td>\n",
       "      <td>NaN</td>\n",
       "      <td>NaN</td>\n",
       "      <td>NaN</td>\n",
       "      <td>NaN</td>\n",
       "      <td>NaN</td>\n",
       "      <td>NaN</td>\n",
       "      <td>NaN</td>\n",
       "      <td>NaN</td>\n",
       "    </tr>\n",
       "    <tr>\n",
       "      <th>47</th>\n",
       "      <td>p048</td>\n",
       "      <td>-1</td>\n",
       "      <td>-1.0</td>\n",
       "      <td>0.0</td>\n",
       "      <td>NaN</td>\n",
       "      <td>NaN</td>\n",
       "      <td>NaN</td>\n",
       "      <td>NaN</td>\n",
       "      <td>NaN</td>\n",
       "      <td>NaN</td>\n",
       "      <td>NaN</td>\n",
       "      <td>NaN</td>\n",
       "      <td>NaN</td>\n",
       "      <td>NaN</td>\n",
       "      <td>NaN</td>\n",
       "      <td>NaN</td>\n",
       "      <td>NaN</td>\n",
       "      <td>NaN</td>\n",
       "    </tr>\n",
       "    <tr>\n",
       "      <th>48</th>\n",
       "      <td>p049</td>\n",
       "      <td>-1</td>\n",
       "      <td>-1.0</td>\n",
       "      <td>0.0</td>\n",
       "      <td>0.0</td>\n",
       "      <td>NaN</td>\n",
       "      <td>NaN</td>\n",
       "      <td>NaN</td>\n",
       "      <td>NaN</td>\n",
       "      <td>NaN</td>\n",
       "      <td>NaN</td>\n",
       "      <td>NaN</td>\n",
       "      <td>NaN</td>\n",
       "      <td>NaN</td>\n",
       "      <td>NaN</td>\n",
       "      <td>NaN</td>\n",
       "      <td>NaN</td>\n",
       "      <td>NaN</td>\n",
       "    </tr>\n",
       "    <tr>\n",
       "      <th>49</th>\n",
       "      <td>p050</td>\n",
       "      <td>0</td>\n",
       "      <td>0.0</td>\n",
       "      <td>1.0</td>\n",
       "      <td>-1.0</td>\n",
       "      <td>-1.0</td>\n",
       "      <td>NaN</td>\n",
       "      <td>NaN</td>\n",
       "      <td>NaN</td>\n",
       "      <td>NaN</td>\n",
       "      <td>NaN</td>\n",
       "      <td>NaN</td>\n",
       "      <td>NaN</td>\n",
       "      <td>NaN</td>\n",
       "      <td>NaN</td>\n",
       "      <td>NaN</td>\n",
       "      <td>NaN</td>\n",
       "      <td>NaN</td>\n",
       "    </tr>\n",
       "    <tr>\n",
       "      <th>50</th>\n",
       "      <td>p051</td>\n",
       "      <td>-1</td>\n",
       "      <td>-1.0</td>\n",
       "      <td>NaN</td>\n",
       "      <td>NaN</td>\n",
       "      <td>NaN</td>\n",
       "      <td>NaN</td>\n",
       "      <td>NaN</td>\n",
       "      <td>NaN</td>\n",
       "      <td>NaN</td>\n",
       "      <td>NaN</td>\n",
       "      <td>NaN</td>\n",
       "      <td>NaN</td>\n",
       "      <td>NaN</td>\n",
       "      <td>NaN</td>\n",
       "      <td>NaN</td>\n",
       "      <td>NaN</td>\n",
       "      <td>NaN</td>\n",
       "    </tr>\n",
       "    <tr>\n",
       "      <th>51</th>\n",
       "      <td>p052</td>\n",
       "      <td>0</td>\n",
       "      <td>1.0</td>\n",
       "      <td>0.0</td>\n",
       "      <td>0.0</td>\n",
       "      <td>0.0</td>\n",
       "      <td>NaN</td>\n",
       "      <td>NaN</td>\n",
       "      <td>NaN</td>\n",
       "      <td>NaN</td>\n",
       "      <td>NaN</td>\n",
       "      <td>NaN</td>\n",
       "      <td>NaN</td>\n",
       "      <td>NaN</td>\n",
       "      <td>NaN</td>\n",
       "      <td>NaN</td>\n",
       "      <td>NaN</td>\n",
       "      <td>NaN</td>\n",
       "    </tr>\n",
       "    <tr>\n",
       "      <th>52</th>\n",
       "      <td>p053</td>\n",
       "      <td>0</td>\n",
       "      <td>-1.0</td>\n",
       "      <td>0.0</td>\n",
       "      <td>0.0</td>\n",
       "      <td>0.0</td>\n",
       "      <td>NaN</td>\n",
       "      <td>NaN</td>\n",
       "      <td>NaN</td>\n",
       "      <td>NaN</td>\n",
       "      <td>NaN</td>\n",
       "      <td>NaN</td>\n",
       "      <td>NaN</td>\n",
       "      <td>NaN</td>\n",
       "      <td>NaN</td>\n",
       "      <td>NaN</td>\n",
       "      <td>NaN</td>\n",
       "      <td>NaN</td>\n",
       "    </tr>\n",
       "    <tr>\n",
       "      <th>53</th>\n",
       "      <td>p054</td>\n",
       "      <td>0</td>\n",
       "      <td>-1.0</td>\n",
       "      <td>0.0</td>\n",
       "      <td>0.0</td>\n",
       "      <td>0.0</td>\n",
       "      <td>NaN</td>\n",
       "      <td>NaN</td>\n",
       "      <td>NaN</td>\n",
       "      <td>NaN</td>\n",
       "      <td>NaN</td>\n",
       "      <td>NaN</td>\n",
       "      <td>NaN</td>\n",
       "      <td>NaN</td>\n",
       "      <td>NaN</td>\n",
       "      <td>NaN</td>\n",
       "      <td>NaN</td>\n",
       "      <td>NaN</td>\n",
       "    </tr>\n",
       "    <tr>\n",
       "      <th>54</th>\n",
       "      <td>p055</td>\n",
       "      <td>0</td>\n",
       "      <td>NaN</td>\n",
       "      <td>NaN</td>\n",
       "      <td>NaN</td>\n",
       "      <td>NaN</td>\n",
       "      <td>NaN</td>\n",
       "      <td>NaN</td>\n",
       "      <td>NaN</td>\n",
       "      <td>NaN</td>\n",
       "      <td>NaN</td>\n",
       "      <td>NaN</td>\n",
       "      <td>NaN</td>\n",
       "      <td>NaN</td>\n",
       "      <td>NaN</td>\n",
       "      <td>NaN</td>\n",
       "      <td>NaN</td>\n",
       "      <td>NaN</td>\n",
       "    </tr>\n",
       "    <tr>\n",
       "      <th>55</th>\n",
       "      <td>p056</td>\n",
       "      <td>0</td>\n",
       "      <td>0.0</td>\n",
       "      <td>0.0</td>\n",
       "      <td>0.0</td>\n",
       "      <td>NaN</td>\n",
       "      <td>NaN</td>\n",
       "      <td>NaN</td>\n",
       "      <td>NaN</td>\n",
       "      <td>NaN</td>\n",
       "      <td>NaN</td>\n",
       "      <td>NaN</td>\n",
       "      <td>NaN</td>\n",
       "      <td>NaN</td>\n",
       "      <td>NaN</td>\n",
       "      <td>NaN</td>\n",
       "      <td>NaN</td>\n",
       "      <td>NaN</td>\n",
       "    </tr>\n",
       "    <tr>\n",
       "      <th>56</th>\n",
       "      <td>p057</td>\n",
       "      <td>-1</td>\n",
       "      <td>-1.0</td>\n",
       "      <td>0.0</td>\n",
       "      <td>0.0</td>\n",
       "      <td>0.0</td>\n",
       "      <td>0.0</td>\n",
       "      <td>NaN</td>\n",
       "      <td>NaN</td>\n",
       "      <td>NaN</td>\n",
       "      <td>NaN</td>\n",
       "      <td>NaN</td>\n",
       "      <td>NaN</td>\n",
       "      <td>NaN</td>\n",
       "      <td>NaN</td>\n",
       "      <td>NaN</td>\n",
       "      <td>NaN</td>\n",
       "      <td>NaN</td>\n",
       "    </tr>\n",
       "    <tr>\n",
       "      <th>57</th>\n",
       "      <td>p058</td>\n",
       "      <td>0</td>\n",
       "      <td>NaN</td>\n",
       "      <td>NaN</td>\n",
       "      <td>NaN</td>\n",
       "      <td>NaN</td>\n",
       "      <td>NaN</td>\n",
       "      <td>NaN</td>\n",
       "      <td>NaN</td>\n",
       "      <td>NaN</td>\n",
       "      <td>NaN</td>\n",
       "      <td>NaN</td>\n",
       "      <td>NaN</td>\n",
       "      <td>NaN</td>\n",
       "      <td>NaN</td>\n",
       "      <td>NaN</td>\n",
       "      <td>NaN</td>\n",
       "      <td>NaN</td>\n",
       "    </tr>\n",
       "    <tr>\n",
       "      <th>58</th>\n",
       "      <td>p059</td>\n",
       "      <td>-1</td>\n",
       "      <td>0.0</td>\n",
       "      <td>0.0</td>\n",
       "      <td>0.0</td>\n",
       "      <td>0.0</td>\n",
       "      <td>1.0</td>\n",
       "      <td>0.0</td>\n",
       "      <td>-1.0</td>\n",
       "      <td>0.0</td>\n",
       "      <td>NaN</td>\n",
       "      <td>NaN</td>\n",
       "      <td>NaN</td>\n",
       "      <td>NaN</td>\n",
       "      <td>NaN</td>\n",
       "      <td>NaN</td>\n",
       "      <td>NaN</td>\n",
       "      <td>NaN</td>\n",
       "    </tr>\n",
       "  </tbody>\n",
       "</table>\n",
       "</div>"
      ],
      "text/plain": [
       "   parrafo  s001  s002  s003  s004  s005  s006  s007  s008  s009  s010  s011  \\\n",
       "0     p001     0  -1.0   0.0   0.0  -1.0   0.0   0.0   0.0   0.0  -1.0   0.0   \n",
       "1     p002     0   0.0   0.0   0.0  -1.0   0.0   0.0   0.0   0.0  -1.0   0.0   \n",
       "2     p003     0   0.0   1.0   1.0  -1.0   NaN   NaN   NaN   NaN   NaN   NaN   \n",
       "3     p004    -1   0.0   NaN   NaN   NaN   NaN   NaN   NaN   NaN   NaN   NaN   \n",
       "4     p005     0  -1.0   NaN   NaN   NaN   NaN   NaN   NaN   NaN   NaN   NaN   \n",
       "5     p006    -1   0.0   NaN   NaN   NaN   NaN   NaN   NaN   NaN   NaN   NaN   \n",
       "6     p007     0   0.0   NaN   NaN   NaN   NaN   NaN   NaN   NaN   NaN   NaN   \n",
       "7     p008    -1  -1.0   0.0   0.0   0.0   0.0   NaN   NaN   NaN   NaN   NaN   \n",
       "8     p009    -1  -1.0   0.0  -1.0   0.0   NaN   NaN   NaN   NaN   NaN   NaN   \n",
       "9     p010    -1  -1.0   NaN   NaN   NaN   NaN   NaN   NaN   NaN   NaN   NaN   \n",
       "10    p011     0   0.0  -1.0   NaN   NaN   NaN   NaN   NaN   NaN   NaN   NaN   \n",
       "11    p012     0  -1.0   0.0   NaN   NaN   NaN   NaN   NaN   NaN   NaN   NaN   \n",
       "12    p013    -1   0.0   0.0  -1.0   0.0   1.0  -1.0   0.0   0.0  -1.0   NaN   \n",
       "13    p014     0   NaN   NaN   NaN   NaN   NaN   NaN   NaN   NaN   NaN   NaN   \n",
       "14    p015     0   NaN   NaN   NaN   NaN   NaN   NaN   NaN   NaN   NaN   NaN   \n",
       "15    p016     0   0.0  -1.0  -1.0  -1.0   0.0  -1.0   NaN   NaN   NaN   NaN   \n",
       "16    p017    -1  -1.0   0.0   NaN   NaN   NaN   NaN   NaN   NaN   NaN   NaN   \n",
       "17    p018    -1   NaN   NaN   NaN   NaN   NaN   NaN   NaN   NaN   NaN   NaN   \n",
       "18    p019     0   0.0  -1.0   0.0   0.0  -1.0   0.0   0.0  -1.0  -1.0   NaN   \n",
       "19    p020     0   0.0   0.0   1.0   0.0   NaN   NaN   NaN   NaN   NaN   NaN   \n",
       "20    p021     0  -1.0   0.0   0.0   0.0   0.0   0.0   NaN   NaN   NaN   NaN   \n",
       "21    p022     0   0.0   NaN   NaN   NaN   NaN   NaN   NaN   NaN   NaN   NaN   \n",
       "22    p023     0  -1.0  -1.0   0.0   NaN   NaN   NaN   NaN   NaN   NaN   NaN   \n",
       "23    p024     0   0.0   0.0  -1.0   0.0  -1.0  -1.0   0.0   NaN   NaN   NaN   \n",
       "24    p025     0  -1.0   1.0   0.0   0.0   0.0   0.0   0.0   NaN   NaN   NaN   \n",
       "25    p026     0   0.0   0.0   0.0  -1.0   0.0   0.0   1.0  -1.0   NaN   NaN   \n",
       "26    p027     0   0.0   0.0  -1.0   0.0   0.0   NaN   NaN   NaN   NaN   NaN   \n",
       "27    p028     0   0.0   0.0  -1.0   NaN   NaN   NaN   NaN   NaN   NaN   NaN   \n",
       "28    p029     0  -1.0   0.0  -1.0   0.0   1.0   NaN   NaN   NaN   NaN   NaN   \n",
       "29    p030    -1   NaN   NaN   NaN   NaN   NaN   NaN   NaN   NaN   NaN   NaN   \n",
       "30    p031     0   0.0   0.0   NaN   NaN   NaN   NaN   NaN   NaN   NaN   NaN   \n",
       "31    p032    -1   0.0  -1.0   0.0  -1.0  -1.0  -1.0   NaN   NaN   NaN   NaN   \n",
       "32    p033     0  -1.0  -1.0   0.0   0.0   0.0   0.0   0.0   0.0   0.0   0.0   \n",
       "33    p034     0  -1.0   0.0  -1.0  -1.0   NaN   NaN   NaN   NaN   NaN   NaN   \n",
       "34    p035     0   0.0   1.0   0.0   NaN   NaN   NaN   NaN   NaN   NaN   NaN   \n",
       "35    p036     0   NaN   NaN   NaN   NaN   NaN   NaN   NaN   NaN   NaN   NaN   \n",
       "36    p037     0  -1.0   0.0   0.0   0.0   1.0   1.0   NaN   NaN   NaN   NaN   \n",
       "37    p038     0   0.0   0.0   0.0   0.0   0.0   NaN   NaN   NaN   NaN   NaN   \n",
       "38    p039     0   0.0   NaN   NaN   NaN   NaN   NaN   NaN   NaN   NaN   NaN   \n",
       "39    p040     0  -1.0   1.0   0.0   0.0   NaN   NaN   NaN   NaN   NaN   NaN   \n",
       "40    p041     0   0.0  -1.0   0.0   0.0   NaN   NaN   NaN   NaN   NaN   NaN   \n",
       "41    p042     0  -1.0  -1.0  -1.0   0.0   NaN   NaN   NaN   NaN   NaN   NaN   \n",
       "42    p043     0   0.0   0.0   0.0   0.0  -1.0   0.0   0.0   0.0   0.0   0.0   \n",
       "43    p044     0  -1.0  -1.0  -1.0   1.0   0.0   1.0   NaN   NaN   NaN   NaN   \n",
       "44    p045     0  -1.0   0.0   0.0   NaN   NaN   NaN   NaN   NaN   NaN   NaN   \n",
       "45    p046     0   0.0  -1.0   0.0   0.0  -1.0   0.0   0.0   NaN   NaN   NaN   \n",
       "46    p047     0   0.0   0.0   0.0   NaN   NaN   NaN   NaN   NaN   NaN   NaN   \n",
       "47    p048    -1  -1.0   0.0   NaN   NaN   NaN   NaN   NaN   NaN   NaN   NaN   \n",
       "48    p049    -1  -1.0   0.0   0.0   NaN   NaN   NaN   NaN   NaN   NaN   NaN   \n",
       "49    p050     0   0.0   1.0  -1.0  -1.0   NaN   NaN   NaN   NaN   NaN   NaN   \n",
       "50    p051    -1  -1.0   NaN   NaN   NaN   NaN   NaN   NaN   NaN   NaN   NaN   \n",
       "51    p052     0   1.0   0.0   0.0   0.0   NaN   NaN   NaN   NaN   NaN   NaN   \n",
       "52    p053     0  -1.0   0.0   0.0   0.0   NaN   NaN   NaN   NaN   NaN   NaN   \n",
       "53    p054     0  -1.0   0.0   0.0   0.0   NaN   NaN   NaN   NaN   NaN   NaN   \n",
       "54    p055     0   NaN   NaN   NaN   NaN   NaN   NaN   NaN   NaN   NaN   NaN   \n",
       "55    p056     0   0.0   0.0   0.0   NaN   NaN   NaN   NaN   NaN   NaN   NaN   \n",
       "56    p057    -1  -1.0   0.0   0.0   0.0   0.0   NaN   NaN   NaN   NaN   NaN   \n",
       "57    p058     0   NaN   NaN   NaN   NaN   NaN   NaN   NaN   NaN   NaN   NaN   \n",
       "58    p059    -1   0.0   0.0   0.0   0.0   1.0   0.0  -1.0   0.0   NaN   NaN   \n",
       "\n",
       "    s012  s013  s014  s015  s016  s017  \n",
       "0    0.0   0.0   1.0   NaN   NaN   NaN  \n",
       "1    0.0  -1.0  -1.0  -1.0  -1.0   0.0  \n",
       "2    NaN   NaN   NaN   NaN   NaN   NaN  \n",
       "3    NaN   NaN   NaN   NaN   NaN   NaN  \n",
       "4    NaN   NaN   NaN   NaN   NaN   NaN  \n",
       "5    NaN   NaN   NaN   NaN   NaN   NaN  \n",
       "6    NaN   NaN   NaN   NaN   NaN   NaN  \n",
       "7    NaN   NaN   NaN   NaN   NaN   NaN  \n",
       "8    NaN   NaN   NaN   NaN   NaN   NaN  \n",
       "9    NaN   NaN   NaN   NaN   NaN   NaN  \n",
       "10   NaN   NaN   NaN   NaN   NaN   NaN  \n",
       "11   NaN   NaN   NaN   NaN   NaN   NaN  \n",
       "12   NaN   NaN   NaN   NaN   NaN   NaN  \n",
       "13   NaN   NaN   NaN   NaN   NaN   NaN  \n",
       "14   NaN   NaN   NaN   NaN   NaN   NaN  \n",
       "15   NaN   NaN   NaN   NaN   NaN   NaN  \n",
       "16   NaN   NaN   NaN   NaN   NaN   NaN  \n",
       "17   NaN   NaN   NaN   NaN   NaN   NaN  \n",
       "18   NaN   NaN   NaN   NaN   NaN   NaN  \n",
       "19   NaN   NaN   NaN   NaN   NaN   NaN  \n",
       "20   NaN   NaN   NaN   NaN   NaN   NaN  \n",
       "21   NaN   NaN   NaN   NaN   NaN   NaN  \n",
       "22   NaN   NaN   NaN   NaN   NaN   NaN  \n",
       "23   NaN   NaN   NaN   NaN   NaN   NaN  \n",
       "24   NaN   NaN   NaN   NaN   NaN   NaN  \n",
       "25   NaN   NaN   NaN   NaN   NaN   NaN  \n",
       "26   NaN   NaN   NaN   NaN   NaN   NaN  \n",
       "27   NaN   NaN   NaN   NaN   NaN   NaN  \n",
       "28   NaN   NaN   NaN   NaN   NaN   NaN  \n",
       "29   NaN   NaN   NaN   NaN   NaN   NaN  \n",
       "30   NaN   NaN   NaN   NaN   NaN   NaN  \n",
       "31   NaN   NaN   NaN   NaN   NaN   NaN  \n",
       "32   NaN   NaN   NaN   NaN   NaN   NaN  \n",
       "33   NaN   NaN   NaN   NaN   NaN   NaN  \n",
       "34   NaN   NaN   NaN   NaN   NaN   NaN  \n",
       "35   NaN   NaN   NaN   NaN   NaN   NaN  \n",
       "36   NaN   NaN   NaN   NaN   NaN   NaN  \n",
       "37   NaN   NaN   NaN   NaN   NaN   NaN  \n",
       "38   NaN   NaN   NaN   NaN   NaN   NaN  \n",
       "39   NaN   NaN   NaN   NaN   NaN   NaN  \n",
       "40   NaN   NaN   NaN   NaN   NaN   NaN  \n",
       "41   NaN   NaN   NaN   NaN   NaN   NaN  \n",
       "42   0.0  -1.0  -1.0   NaN   NaN   NaN  \n",
       "43   NaN   NaN   NaN   NaN   NaN   NaN  \n",
       "44   NaN   NaN   NaN   NaN   NaN   NaN  \n",
       "45   NaN   NaN   NaN   NaN   NaN   NaN  \n",
       "46   NaN   NaN   NaN   NaN   NaN   NaN  \n",
       "47   NaN   NaN   NaN   NaN   NaN   NaN  \n",
       "48   NaN   NaN   NaN   NaN   NaN   NaN  \n",
       "49   NaN   NaN   NaN   NaN   NaN   NaN  \n",
       "50   NaN   NaN   NaN   NaN   NaN   NaN  \n",
       "51   NaN   NaN   NaN   NaN   NaN   NaN  \n",
       "52   NaN   NaN   NaN   NaN   NaN   NaN  \n",
       "53   NaN   NaN   NaN   NaN   NaN   NaN  \n",
       "54   NaN   NaN   NaN   NaN   NaN   NaN  \n",
       "55   NaN   NaN   NaN   NaN   NaN   NaN  \n",
       "56   NaN   NaN   NaN   NaN   NaN   NaN  \n",
       "57   NaN   NaN   NaN   NaN   NaN   NaN  \n",
       "58   NaN   NaN   NaN   NaN   NaN   NaN  "
      ]
     },
     "execution_count": 5,
     "metadata": {},
     "output_type": "execute_result"
    }
   ],
   "source": [
    "# normalize sentiments\n",
    "\n",
    "sentimientos = cuento.replace({\"POS\": 1, \"NEU\": 0, \"NEG\": -1, \"\": np.nan})\n",
    "\n",
    "# append column parrafo from cuento_or to sentimientos\n",
    "\n",
    "sentimientos[\"parrafo\"] = cuento_or[\"parrafo\"]\n",
    "sentimientos = sentimientos[[\"parrafo\"] + cols]\n",
    "\n",
    "sentimientos"
   ]
  },
  {
   "cell_type": "code",
   "execution_count": 6,
   "metadata": {},
   "outputs": [],
   "source": [
    "\n",
    "# cut all the columns to the same length\n",
    "cuento = cuento[cols].apply(lambda x: x.str[:150], axis=0)"
   ]
  },
  {
   "cell_type": "code",
   "execution_count": 7,
   "metadata": {},
   "outputs": [],
   "source": [
    "colors = {\"POS\": \"#d93806\", \"NEU\": \"#a4fc3b\", \"NEG\": \"#4675ed\"}\n",
    "\n",
    "# list with 5 times each color value\n",
    "colors_list = [colors[\"POS\"]]*5 + [colors[\"NEU\"]]*5 + [colors[\"NEG\"]]*5\n"
   ]
  },
  {
   "cell_type": "code",
   "execution_count": 8,
   "metadata": {},
   "outputs": [
    {
     "data": {
      "application/vnd.plotly.v1+json": {
       "config": {
        "plotlyServerURL": "https://plot.ly"
       },
       "data": [
        {
         "coloraxis": "coloraxis",
         "customdata": [
          [
           [
            "NEU",
            "La cocina resplandece de blancura."
           ],
           [
            "NEG",
            "Es una lástima tener que mancillarla con el uso."
           ],
           [
            "NEU",
            "Habría que sentarse a contemplarla, a describirla, a cerrar los ojos, a evocarla."
           ],
           [
            "NEU",
            "Fijándose bien esta nitidez, esta pulcritud carece del exceso deslumbrador que produce escalofríos en los sanatorios."
           ],
           [
            "NEG",
            "¿O es el halo de desinfectantes, los pasos de goma de las afanadoras, la presencia oculta de la enfermedad y de la muerte?"
           ],
           [
            "NEU",
            "Qué me importa."
           ],
           [
            "NEU",
            "Mi lugar está aquí."
           ],
           [
            "NEU",
            "Desde el principio de los tiempos ha estado aquí."
           ],
           [
            "NEU",
            "En el proverbio alemán la mujer es sinónimo de Küche, Kinder, Kirche."
           ],
           [
            "NEG",
            "Yo anduve extraviada en aulas, en calles, en oficinas, en cafés; desperdiciada en destrezas que ahora he de olvidar para adquirir otras."
           ],
           [
            "NEU",
            "Por ejemplo, elegir el menú."
           ],
           [
            "NEU",
            "¿Cómo podría llevar al cabo labor tan ímproba sin la colaboración de la sociedad, de la historia entera?"
           ],
           [
            "NEU",
            "En un estante especial, adecuado a mi estatura, se alinean mis espíritus protectores, esas aplaudidas equilibristas que concilian en las páginas de los recetarios las contradicciones más irreductibles: la esbeltez y la gula, el aspecto vistoso y la economía, la celeridad y la suculencia."
           ],
           [
            "POS",
            "Con sus combinaciones infinitas: la esbeltez y la economía, la celeridad y el aspecto vistoso, la suculencia y…"
           ],
           [
            null,
            null
           ],
           [
            null,
            null
           ],
           [
            null,
            null
           ]
          ],
          [
           [
            "NEU",
            "¿Qué me aconseja usted para la comida de hoy, experimentada ama de casa, inspiración de las madres ausentes y presentes, voz de la tradición, secreto a voces de los supermercados?"
           ],
           [
            "NEU",
            "Abro un libro al azar y leo: «La cena de don Quijote.» Muy literario pero muy insatisfactorio."
           ],
           [
            "NEU",
            "Porque don Quijote no tenía fama de gourmet sino de despistado."
           ],
           [
            "NEU",
            "Aunque un análisis más a fondo del texto nos revela, etc., etc., etc."
           ],
           [
            "NEG",
            "Uf."
           ],
           [
            "NEU",
            "Ha corrido más tinta en torno a esa figura que agua debajo de los puentes."
           ],
           [
            "NEU",
            "«Pajaritos de centro de cara.» Esotérico."
           ],
           [
            "NEU",
            "¿La cara de quién?"
           ],
           [
            "NEU",
            "¿Tiene un centro la cara de algo o de alguien?"
           ],
           [
            "NEG",
            "Si lo tiene no ha de ser apetecible."
           ],
           [
            "NEU",
            "«Bigos a la rumana.» Pero ¿a quién supone usted que se está dirigiendo?"
           ],
           [
            "NEU",
            "Si yo supiera lo que es estragón y ananá no estaría consultando este libro porque sabría muchas otras cosas."
           ],
           [
            "NEG",
            "Si tuviera usted el mínimo sentido de la realidad debería, usted misma o cualquiera de sus colegas, tomarse el trabajo de escribir un diccionario de términos técnicos, redactar unos prolegómenos, idear una propedéutica para hacer accesible al profano el difícil arte culinario."
           ],
           [
            "NEG",
            "Pero parten del supuesto de que todas estamos en el ajo y se limitan a enunciar."
           ],
           [
            "NEG",
            "Yo, por lo menos, declaro solemnemente que no estoy, que no he estado nunca ni en este ajo que ustedes comparten ni en ningún otro."
           ],
           [
            "NEG",
            "Jamás he entendido nada de nada."
           ],
           [
            "NEU",
            "Pueden ustedes observar los síntomas: me planto, hecha una imbécil, dentro de una cocina impecable y neutra, con el delantal que usurpo para hacer un simulacro de eficiencia y del que seré despojada vergonzosa pero justicieramente."
           ]
          ],
          [
           [
            "NEU",
            "Abro el compartimiento del refrigerador que anuncia «carnes» y extraigo un paquete irreconocible bajo su capa de hielo."
           ],
           [
            "NEU",
            "La disuelvo en agua caliente y se me revela el título sin el cual no habría identificado jamás su contenido: es carne especial para asar."
           ],
           [
            "POS",
            "Magnífico."
           ],
           [
            "POS",
            "Un plato sencillo y sano."
           ],
           [
            "NEG",
            "Como no representa la superación de ninguna antinomia ni el planteamiento de ninguna aporía, no se me antoja."
           ],
           [
            null,
            null
           ],
           [
            null,
            null
           ],
           [
            null,
            null
           ],
           [
            null,
            null
           ],
           [
            null,
            null
           ],
           [
            null,
            null
           ],
           [
            null,
            null
           ],
           [
            null,
            null
           ],
           [
            null,
            null
           ],
           [
            null,
            null
           ],
           [
            null,
            null
           ],
           [
            null,
            null
           ]
          ],
          [
           [
            "NEG",
            "Y no es sólo el exceso de lógica el que me inhibe el hambre."
           ],
           [
            "NEU",
            "Es también el"
           ],
           [
            null,
            null
           ],
           [
            null,
            null
           ],
           [
            null,
            null
           ],
           [
            null,
            null
           ],
           [
            null,
            null
           ],
           [
            null,
            null
           ],
           [
            null,
            null
           ],
           [
            null,
            null
           ],
           [
            null,
            null
           ],
           [
            null,
            null
           ],
           [
            null,
            null
           ],
           [
            null,
            null
           ],
           [
            null,
            null
           ],
           [
            null,
            null
           ],
           [
            null,
            null
           ]
          ],
          [
           [
            "NEU",
            "aspecto, rígido por el frío; es el color que se manifiesta ahora que he desbaratado el paquete."
           ],
           [
            "NEG",
            "Rojo, como si estuviera a punto de echarse a sangrar."
           ],
           [
            null,
            null
           ],
           [
            null,
            null
           ],
           [
            null,
            null
           ],
           [
            null,
            null
           ],
           [
            null,
            null
           ],
           [
            null,
            null
           ],
           [
            null,
            null
           ],
           [
            null,
            null
           ],
           [
            null,
            null
           ],
           [
            null,
            null
           ],
           [
            null,
            null
           ],
           [
            null,
            null
           ],
           [
            null,
            null
           ],
           [
            null,
            null
           ],
           [
            null,
            null
           ]
          ],
          [
           [
            "NEG",
            "Del mismo color teníamos la espalda, mi marido y yo después de las orgiásticas asoleadas en las playas de Acapulco."
           ],
           [
            "NEU",
            "Él podía darse el lujo de"
           ],
           [
            null,
            null
           ],
           [
            null,
            null
           ],
           [
            null,
            null
           ],
           [
            null,
            null
           ],
           [
            null,
            null
           ],
           [
            null,
            null
           ],
           [
            null,
            null
           ],
           [
            null,
            null
           ],
           [
            null,
            null
           ],
           [
            null,
            null
           ],
           [
            null,
            null
           ],
           [
            null,
            null
           ],
           [
            null,
            null
           ],
           [
            null,
            null
           ],
           [
            null,
            null
           ]
          ],
          [
           [
            "NEU",
            "«portarse como quien es» y tenderse boca abajo para que no le rozara la piel dolorida."
           ],
           [
            "NEU",
            "Pero yo, abnegada mujercita mexicana que nació como la paloma para el nido, sonreía a semejanza de Cuauhtémoc en el suplicio cuando dijo"
           ],
           [
            null,
            null
           ],
           [
            null,
            null
           ],
           [
            null,
            null
           ],
           [
            null,
            null
           ],
           [
            null,
            null
           ],
           [
            null,
            null
           ],
           [
            null,
            null
           ],
           [
            null,
            null
           ],
           [
            null,
            null
           ],
           [
            null,
            null
           ],
           [
            null,
            null
           ],
           [
            null,
            null
           ],
           [
            null,
            null
           ],
           [
            null,
            null
           ],
           [
            null,
            null
           ]
          ],
          [
           [
            "NEG",
            "«mi lecho no es de rosas y se volvió a callar»."
           ],
           [
            "NEG",
            "Boca arriba soportaba no sólo mi propio peso sino el de él encima del mío."
           ],
           [
            "NEU",
            "La postura clásica para hacer el amor."
           ],
           [
            "NEU",
            "Y gemía, de desgarramiento, de placer."
           ],
           [
            "NEU",
            "El gemido clásico."
           ],
           [
            "NEU",
            "Mitos, mitos."
           ],
           [
            null,
            null
           ],
           [
            null,
            null
           ],
           [
            null,
            null
           ],
           [
            null,
            null
           ],
           [
            null,
            null
           ],
           [
            null,
            null
           ],
           [
            null,
            null
           ],
           [
            null,
            null
           ],
           [
            null,
            null
           ],
           [
            null,
            null
           ],
           [
            null,
            null
           ]
          ],
          [
           [
            "NEG",
            "Lo mejor (para mis quemaduras, al menos) era cuando se quedaba dormido."
           ],
           [
            "NEG",
            "Bajo la yema de mis dedos —no muy sensibles por el prolongado contacto con las teclas de la máquina de escribir— el nylon de mi camisón de desposada resbalaba en un fraudulento esfuerzo por parecer encaje."
           ],
           [
            "NEU",
            "Yo jugueteaba con la punta de los botones y esos otros adornos que hacen parecer tan femenina a quien los usa, en la oscuridad de la alta noche."
           ],
           [
            "NEG",
            "La albura de mis ropas, deliberada, reiterativa, impúdicamente simbólica, quedaba abolida transitoriamente."
           ],
           [
            "NEU",
            "Algún instante quizá alcanzó a consumar su significado bajo la luz y bajo la mirada de esos ojos que ahora están vencidos por la fatiga."
           ],
           [
            null,
            null
           ],
           [
            null,
            null
           ],
           [
            null,
            null
           ],
           [
            null,
            null
           ],
           [
            null,
            null
           ],
           [
            null,
            null
           ],
           [
            null,
            null
           ],
           [
            null,
            null
           ],
           [
            null,
            null
           ],
           [
            null,
            null
           ],
           [
            null,
            null
           ],
           [
            null,
            null
           ]
          ],
          [
           [
            "NEG",
            "Unos párpados que se cierran y he aquí, de nuevo, el exilio."
           ],
           [
            "NEG",
            "Una enorme extensión arenosa, sin otro desenlace que el mar cuyo movimiento propone la parálisis; sin otra invitación que la del acantilado al suicidio."
           ],
           [
            null,
            null
           ],
           [
            null,
            null
           ],
           [
            null,
            null
           ],
           [
            null,
            null
           ],
           [
            null,
            null
           ],
           [
            null,
            null
           ],
           [
            null,
            null
           ],
           [
            null,
            null
           ],
           [
            null,
            null
           ],
           [
            null,
            null
           ],
           [
            null,
            null
           ],
           [
            null,
            null
           ],
           [
            null,
            null
           ],
           [
            null,
            null
           ],
           [
            null,
            null
           ]
          ],
          [
           [
            "NEU",
            "Pero es mentira."
           ],
           [
            "NEU",
            "Yo no soy el sueño que sueña, que sueña, que sueña; yo no soy el reflejo de una imagen en un cristal; a mí no me aniquila la cerrazón de una conciencia o de toda conciencia posible."
           ],
           [
            "NEG",
            "Yo continúo viviendo con una vida densa, viscosa, turbia, aunque el que está a mi lado y el remoto, me ignoren, me olviden, me pospongan, me abandonen, me desamen."
           ],
           [
            null,
            null
           ],
           [
            null,
            null
           ],
           [
            null,
            null
           ],
           [
            null,
            null
           ],
           [
            null,
            null
           ],
           [
            null,
            null
           ],
           [
            null,
            null
           ],
           [
            null,
            null
           ],
           [
            null,
            null
           ],
           [
            null,
            null
           ],
           [
            null,
            null
           ],
           [
            null,
            null
           ],
           [
            null,
            null
           ],
           [
            null,
            null
           ]
          ],
          [
           [
            "NEU",
            "Yo también soy una conciencia que puede clausurarse, desamparar a otro y exponerlo al aniquilamiento."
           ],
           [
            "NEG",
            "Yo… La carne, bajo la rociadura de la sal, ha acallado el escándalo de su rojez y ahora me resulta más tolerable, más familiar."
           ],
           [
            "NEU",
            "Es el trozo que vi mil veces, sin darme cuenta, cuando me asomaba, de prisa, a decirle a la cocinera que…"
           ],
           [
            null,
            null
           ],
           [
            null,
            null
           ],
           [
            null,
            null
           ],
           [
            null,
            null
           ],
           [
            null,
            null
           ],
           [
            null,
            null
           ],
           [
            null,
            null
           ],
           [
            null,
            null
           ],
           [
            null,
            null
           ],
           [
            null,
            null
           ],
           [
            null,
            null
           ],
           [
            null,
            null
           ],
           [
            null,
            null
           ],
           [
            null,
            null
           ]
          ],
          [
           [
            "NEG",
            "No nacimos juntos."
           ],
           [
            "NEU",
            "Nuestro encuentro se debió a un azar ¿feliz?"
           ],
           [
            "NEU",
            "Es demasiado pronto aún para afirmarlo."
           ],
           [
            "NEG",
            "Coincidimos en una exposición, en una conferencia, en un cine-club; tropezamos en un elevador; me cedió su asiento en el tranvía; un guardabosques interrumpió nuestra perpleja y, hasta entonces, paralela contemplación de la jirafa porque era hora de cerrar el zoológico."
           ],
           [
            "NEU",
            "Alguien, él o yo, es igual, hizo la pregunta idiota pero indispensable: ¿usted trabaja o estudia?"
           ],
           [
            "POS",
            "Armonía del interés y de las buenas intenciones, manifestación de propósitos «serios»."
           ],
           [
            "NEG",
            "Hace un año yo no tenía la menor idea de su existencia y ahora reposo junto a él con los muslos entrelazados, húmedos de sudor y de semen."
           ],
           [
            "NEU",
            "Podría levantarme sin despertarlo, ir descalza hasta la regadera."
           ],
           [
            "NEU",
            "¿Purificarme?"
           ],
           [
            "NEG",
            "No tengo asco."
           ],
           [
            null,
            null
           ],
           [
            null,
            null
           ],
           [
            null,
            null
           ],
           [
            null,
            null
           ],
           [
            null,
            null
           ],
           [
            null,
            null
           ],
           [
            null,
            null
           ]
          ],
          [
           [
            "NEU",
            "Prefiero creer que lo que me une a él es algo tan fácil de borrar como una secreción y no tan terrible como un sacramento."
           ],
           [
            null,
            null
           ],
           [
            null,
            null
           ],
           [
            null,
            null
           ],
           [
            null,
            null
           ],
           [
            null,
            null
           ],
           [
            null,
            null
           ],
           [
            null,
            null
           ],
           [
            null,
            null
           ],
           [
            null,
            null
           ],
           [
            null,
            null
           ],
           [
            null,
            null
           ],
           [
            null,
            null
           ],
           [
            null,
            null
           ],
           [
            null,
            null
           ],
           [
            null,
            null
           ],
           [
            null,
            null
           ]
          ],
          [
           [
            "NEU",
            "Así que permanezco inmóvil, respirando rítmicamente para imitar el sosiego, puliendo mi insomnio, la única joya de soltera que he conservado y que estoy dispuesta a conservar hasta la muerte."
           ],
           [
            null,
            null
           ],
           [
            null,
            null
           ],
           [
            null,
            null
           ],
           [
            null,
            null
           ],
           [
            null,
            null
           ],
           [
            null,
            null
           ],
           [
            null,
            null
           ],
           [
            null,
            null
           ],
           [
            null,
            null
           ],
           [
            null,
            null
           ],
           [
            null,
            null
           ],
           [
            null,
            null
           ],
           [
            null,
            null
           ],
           [
            null,
            null
           ],
           [
            null,
            null
           ],
           [
            null,
            null
           ]
          ],
          [
           [
            "NEU",
            "Bajo el breve diluvio de pimienta la carne parece haber encanecido."
           ],
           [
            "NEU",
            "Desvanezco este signo de vejez frotando como si quisiera traspasar la superficie e impregnar el espesor con las esencias."
           ],
           [
            "NEG",
            "Porque perdí mi antiguo nombre y aún no me acostumbro al nuevo, que tampoco es mío."
           ],
           [
            "NEG",
            "Cuando en el vestíbulo del hotel algún empleado me reclama yo permanezco sorda, con ese vago malestar que es el preludio del reconocimiento."
           ],
           [
            "NEG",
            "¿Quién será la persona que no atiende a la llamada?"
           ],
           [
            "NEU",
            "Podría tratarse de algo urgente, grave, definitivo, de vida o muerte."
           ],
           [
            "NEG",
            "El que llama se desespera, se va sin dejar ningún rastro, ningún mensaje y anula la posibilidad de cualquier nuevo encuentro."
           ],
           [
            null,
            null
           ],
           [
            null,
            null
           ],
           [
            null,
            null
           ],
           [
            null,
            null
           ],
           [
            null,
            null
           ],
           [
            null,
            null
           ],
           [
            null,
            null
           ],
           [
            null,
            null
           ],
           [
            null,
            null
           ],
           [
            null,
            null
           ]
          ],
          [
           [
            "NEG",
            "¿Es la angustia la que oprime mi corazón?"
           ],
           [
            "NEG",
            "No, es su mano la que oprime mi hombro."
           ],
           [
            "NEU",
            "Y sus labios que sonríen con una burla benévola, más que de dueño, de taumaturgo."
           ],
           [
            null,
            null
           ],
           [
            null,
            null
           ],
           [
            null,
            null
           ],
           [
            null,
            null
           ],
           [
            null,
            null
           ],
           [
            null,
            null
           ],
           [
            null,
            null
           ],
           [
            null,
            null
           ],
           [
            null,
            null
           ],
           [
            null,
            null
           ],
           [
            null,
            null
           ],
           [
            null,
            null
           ],
           [
            null,
            null
           ],
           [
            null,
            null
           ]
          ],
          [
           [
            "NEG",
            "Y bien, acepto mientras nos encaminamos al bar (el hombro me arde, está despellejándose) es verdad que en el contacto o colisión con él he sufrido una metamorfosis profunda: no sabía y sé, no sentía y siento, no era y soy."
           ],
           [
            null,
            null
           ],
           [
            null,
            null
           ],
           [
            null,
            null
           ],
           [
            null,
            null
           ],
           [
            null,
            null
           ],
           [
            null,
            null
           ],
           [
            null,
            null
           ],
           [
            null,
            null
           ],
           [
            null,
            null
           ],
           [
            null,
            null
           ],
           [
            null,
            null
           ],
           [
            null,
            null
           ],
           [
            null,
            null
           ],
           [
            null,
            null
           ],
           [
            null,
            null
           ],
           [
            null,
            null
           ]
          ],
          [
           [
            "NEU",
            "Habrá que dejarla reposar así."
           ],
           [
            "NEU",
            "Hasta que ascienda a la temperatura ambiente, hasta que se impregne de los sabores de que la he recubierto."
           ],
           [
            "NEG",
            "Me da la impresión de que no he sabido calcular bien y de que he comprado un pedazo excesivo para nosotros dos."
           ],
           [
            "NEU",
            "Yo, por pereza, no soy carnívora."
           ],
           [
            "NEU",
            "Él, por estética, guarda la línea."
           ],
           [
            "NEG",
            "¡Va a sobrar casi todo!"
           ],
           [
            "NEU",
            "Sí, ya sé que no debo preocuparme: que alguna de las hadas que revolotean en torno mío va a acudir en mi auxilio y a explicarme cómo se aprovechan los desperdicios."
           ],
           [
            "NEU",
            "Es un paso en falso de todos modos."
           ],
           [
            "NEG",
            "No se inicia una vida conyugal de manera tan sórdida."
           ],
           [
            "NEG",
            "Me temo que no se inicie tampoco con un platillo tan anodino como la carne asada."
           ],
           [
            null,
            null
           ],
           [
            null,
            null
           ],
           [
            null,
            null
           ],
           [
            null,
            null
           ],
           [
            null,
            null
           ],
           [
            null,
            null
           ],
           [
            null,
            null
           ]
          ],
          [
           [
            "NEU",
            "Gracias, murmuro, mientras me limpio los labios con la punta de la servilleta."
           ],
           [
            "NEU",
            "Gracias por la copa transparente, por la aceituna sumergida."
           ],
           [
            "NEU",
            "Gracias por haberme abierto la jaula de una rutina estéril para cerrarme la jaula de otra rutina que, según todos los propósitos y las posibilidades, ha de ser fecunda."
           ],
           [
            "POS",
            "Gracias por darme la oportunidad de lucir un traje largo y caudaloso, por ayudarme a avanzar en el interior del templo, exaltada por la música del órgano."
           ],
           [
            "NEU",
            "Gracias por…"
           ],
           [
            null,
            null
           ],
           [
            null,
            null
           ],
           [
            null,
            null
           ],
           [
            null,
            null
           ],
           [
            null,
            null
           ],
           [
            null,
            null
           ],
           [
            null,
            null
           ],
           [
            null,
            null
           ],
           [
            null,
            null
           ],
           [
            null,
            null
           ],
           [
            null,
            null
           ],
           [
            null,
            null
           ]
          ],
          [
           [
            "NEU",
            "¿Cuánto tiempo se tomará para estar lista?"
           ],
           [
            "NEG",
            "Bueno, no debería de importarme demasiado porque hay que ponerla al fuego a última hora."
           ],
           [
            "NEU",
            "Tarda muy poco, dicen los manuales."
           ],
           [
            "NEU",
            "¿Cuánto es poco?"
           ],
           [
            "NEU",
            "¿Quince minutos?"
           ],
           [
            "NEU",
            "¿Diez?"
           ],
           [
            "NEU",
            "¿Cinco?"
           ],
           [
            null,
            null
           ],
           [
            null,
            null
           ],
           [
            null,
            null
           ],
           [
            null,
            null
           ],
           [
            null,
            null
           ],
           [
            null,
            null
           ],
           [
            null,
            null
           ],
           [
            null,
            null
           ],
           [
            null,
            null
           ],
           [
            null,
            null
           ]
          ],
          [
           [
            "NEU",
            "Naturalmente, el texto no especifica."
           ],
           [
            "NEU",
            "Me supone una intuición que, según mi sexo, debo poseer pero que no poseo, un sentido sin el que nací que me permitiría advertir el momento preciso en que la carne está a punto."
           ],
           [
            null,
            null
           ],
           [
            null,
            null
           ],
           [
            null,
            null
           ],
           [
            null,
            null
           ],
           [
            null,
            null
           ],
           [
            null,
            null
           ],
           [
            null,
            null
           ],
           [
            null,
            null
           ],
           [
            null,
            null
           ],
           [
            null,
            null
           ],
           [
            null,
            null
           ],
           [
            null,
            null
           ],
           [
            null,
            null
           ],
           [
            null,
            null
           ],
           [
            null,
            null
           ]
          ],
          [
           [
            "NEU",
            "¿Y tú?"
           ],
           [
            "NEG",
            "¿No tienes nada que agradecerme?"
           ],
           [
            "NEG",
            "Lo has puntualizado con una solemnidad un poco pedante y con una precisión que acaso pretendía ser halagadora pero que me resultaba ofensiva: mi virginidad."
           ],
           [
            "NEU",
            "Cuando la descubriste yo me sentí como el último dinosaurio en un planeta del que la"
           ],
           [
            null,
            null
           ],
           [
            null,
            null
           ],
           [
            null,
            null
           ],
           [
            null,
            null
           ],
           [
            null,
            null
           ],
           [
            null,
            null
           ],
           [
            null,
            null
           ],
           [
            null,
            null
           ],
           [
            null,
            null
           ],
           [
            null,
            null
           ],
           [
            null,
            null
           ],
           [
            null,
            null
           ],
           [
            null,
            null
           ]
          ],
          [
           [
            "NEU",
            "especie había desaparecido."
           ],
           [
            "NEU",
            "Ansiaba justificarme, explicar que si llegué hasta ti intacta no fue por virtud ni por orgullo ni por fealdad sino por apego a un estilo."
           ],
           [
            "NEU",
            "No soy barroca."
           ],
           [
            "NEG",
            "La pequeña imperfección en la perla me es insoportable."
           ],
           [
            "NEU",
            "No me queda entonces más alternativa que el neoclásico y su rigidez es incompatible con la espontaneidad para hacer el amor."
           ],
           [
            "NEG",
            "Yo carezco de la soltura del que rema, del que juega al tenis, del que se desliza bailando."
           ],
           [
            "NEG",
            "No practico ningún deporte."
           ],
           [
            "NEU",
            "Cumplo un rito y el ademán de entrega se me petrifica en un gesto estatuario."
           ],
           [
            null,
            null
           ],
           [
            null,
            null
           ],
           [
            null,
            null
           ],
           [
            null,
            null
           ],
           [
            null,
            null
           ],
           [
            null,
            null
           ],
           [
            null,
            null
           ],
           [
            null,
            null
           ],
           [
            null,
            null
           ]
          ],
          [
           [
            "NEU",
            "¿Acechas mi tránsito a la fluidez, lo esperas, lo necesitas?"
           ],
           [
            "NEG",
            "¿O te basta este hieratismo que te sacraliza y que tú interpretas como la pasividad que corresponde a mi naturaleza?"
           ],
           [
            "POS",
            "Y si a la tuya corresponde ser voluble te tranquilizará pensar que no estorbaré tus aventuras."
           ],
           [
            "NEU",
            "No será indispensable — gracias a mi temperamento— que me cebes, que me ates de pies y manos con los hijos, que me amordaces con la miel espesa de la resignación."
           ],
           [
            "NEU",
            "Yo permaneceré como permanezco."
           ],
           [
            "NEU",
            "Quieta."
           ],
           [
            "NEU",
            "Cuando dejas caer tu cuerpo sobre el mío siento que me cubre una lápida, llena de inscripciones, de nombres ajenos, de fechas memorables."
           ],
           [
            "NEU",
            "Gimes inarticuladamente y quisiera susurrarte al oído mi nombre para que recuerdes quién es a la que posees."
           ],
           [
            null,
            null
           ],
           [
            null,
            null
           ],
           [
            null,
            null
           ],
           [
            null,
            null
           ],
           [
            null,
            null
           ],
           [
            null,
            null
           ],
           [
            null,
            null
           ],
           [
            null,
            null
           ],
           [
            null,
            null
           ]
          ],
          [
           [
            "NEU",
            "Soy yo."
           ],
           [
            "NEU",
            "¿Pero quién soy yo?"
           ],
           [
            "NEU",
            "Tu esposa, claro."
           ],
           [
            "NEU",
            "Y ese título basta para distinguirme de los recuerdos del pasado, de los proyectos para el porvenir."
           ],
           [
            "NEG",
            "Llevo una marca de propiedad y no obstante me miras con desconfianza."
           ],
           [
            "NEU",
            "No estoy tejiendo una red para prenderte."
           ],
           [
            "NEU",
            "No soy una mantis religiosa."
           ],
           [
            "POS",
            "Te agradezco que creas en semejante hipótesis."
           ],
           [
            "NEG",
            "Pero es falsa."
           ],
           [
            null,
            null
           ],
           [
            null,
            null
           ],
           [
            null,
            null
           ],
           [
            null,
            null
           ],
           [
            null,
            null
           ],
           [
            null,
            null
           ],
           [
            null,
            null
           ],
           [
            null,
            null
           ]
          ],
          [
           [
            "NEU",
            "Esta carne tiene una dureza y una consistencia que no caracterizan a las reses."
           ],
           [
            "NEU",
            "Ha de ser de mamut."
           ],
           [
            "NEU",
            "De esos que se han conservado, desde la prehistoria, en los hielos de Siberia y que los campesinos descongelan y sazonan para la comida."
           ],
           [
            "NEG",
            "En el aburridísimo documental que exhibieron en la Embajada, tan lleno de detalles superfluos, no se hacía la menor alusión al tiempo que dedicaban a volverlos comestibles."
           ],
           [
            "NEU",
            "Años, meses."
           ],
           [
            "NEU",
            "Y yo tengo a mi disposición un plazo de…"
           ],
           [
            null,
            null
           ],
           [
            null,
            null
           ],
           [
            null,
            null
           ],
           [
            null,
            null
           ],
           [
            null,
            null
           ],
           [
            null,
            null
           ],
           [
            null,
            null
           ],
           [
            null,
            null
           ],
           [
            null,
            null
           ],
           [
            null,
            null
           ],
           [
            null,
            null
           ]
          ],
          [
           [
            "NEU",
            "¿Es la alondra?"
           ],
           [
            "NEU",
            "¿Es el ruiseñor?"
           ],
           [
            "NEU",
            "No, nuestro horario no va a regirse por tan aladas criaturas como las que avisaban el advenimiento de la aurora a Romeo y Julieta sino por un estentóreo e inequívoco despertador."
           ],
           [
            "NEG",
            "Y tú no bajarás al día por la escala de mis trenzas sino por los pasos de una querella minuciosa: se te ha desprendido un botón del saco, el pan está quemado, el café frío."
           ],
           [
            null,
            null
           ],
           [
            null,
            null
           ],
           [
            null,
            null
           ],
           [
            null,
            null
           ],
           [
            null,
            null
           ],
           [
            null,
            null
           ],
           [
            null,
            null
           ],
           [
            null,
            null
           ],
           [
            null,
            null
           ],
           [
            null,
            null
           ],
           [
            null,
            null
           ],
           [
            null,
            null
           ],
           [
            null,
            null
           ]
          ],
          [
           [
            "NEU",
            "Yo rumiaré, en silencio, mi rencor."
           ],
           [
            "NEG",
            "Se me atribuyen las responsabilidades y las tareas de una criada para todo."
           ],
           [
            "NEU",
            "He de mantener la casa impecable, la ropa lista, el ritmo de la alimentación infalible."
           ],
           [
            "NEG",
            "Pero no se me paga ningún sueldo, no se me concede un día libre a la semana, no puedo cambiar de amo."
           ],
           [
            "NEU",
            "Debo, por otra parte, contribuir al sostenimiento del hogar y he de desempeñar con eficacia un trabajo en el que el jefe exige y los compañeros conspiran y los subordinados odian."
           ],
           [
            "POS",
            "En mis ratos de ocio me transformo en una dama de sociedad que ofrece comidas y cenas a los amigos de su marido, que asiste a reuniones, que se abona a la ópera, que controla su peso, que renueva su guardarropa, que cuida la lozanía de su cutis, que se conserva atractiva, que está al tanto de los chismes, que se desvela y que madruga, que corre el riesgo mensual de la maternidad, que cree en las juntas nocturnas de"
           ],
           [
            null,
            null
           ],
           [
            null,
            null
           ],
           [
            null,
            null
           ],
           [
            null,
            null
           ],
           [
            null,
            null
           ],
           [
            null,
            null
           ],
           [
            null,
            null
           ],
           [
            null,
            null
           ],
           [
            null,
            null
           ],
           [
            null,
            null
           ],
           [
            null,
            null
           ]
          ],
          [
           [
            "NEG",
            "ejecutivos, en los viajes de negocios y en la llegada de clientes imprevistos; que padece alucinaciones olfativas cuando percibe la emanación de perfumes franceses (diferentes de los que ella usa) de las camisas, de los pañuelos de su marido; que en sus noches solitarias se niega a pensar por qué o para qué tantos afanes y se prepara una bebida bien cargada y lee una novela policiaca con ese ánimo frágil de los convalecientes."
           ],
           [
            null,
            null
           ],
           [
            null,
            null
           ],
           [
            null,
            null
           ],
           [
            null,
            null
           ],
           [
            null,
            null
           ],
           [
            null,
            null
           ],
           [
            null,
            null
           ],
           [
            null,
            null
           ],
           [
            null,
            null
           ],
           [
            null,
            null
           ],
           [
            null,
            null
           ],
           [
            null,
            null
           ],
           [
            null,
            null
           ],
           [
            null,
            null
           ],
           [
            null,
            null
           ],
           [
            null,
            null
           ]
          ],
          [
           [
            "NEU",
            "¿No sería oportuno prender la estufa?"
           ],
           [
            "NEU",
            "Una lumbre muy baja para que se vaya calentando, poco a poco, el asador «que previamente ha de untarse con un poco de grasa para que la carne no se pegue»."
           ],
           [
            "NEU",
            "Eso se me ocurre hasta a mí, no había necesidad de gastar en esas recomendaciones las páginas de un libro."
           ],
           [
            null,
            null
           ],
           [
            null,
            null
           ],
           [
            null,
            null
           ],
           [
            null,
            null
           ],
           [
            null,
            null
           ],
           [
            null,
            null
           ],
           [
            null,
            null
           ],
           [
            null,
            null
           ],
           [
            null,
            null
           ],
           [
            null,
            null
           ],
           [
            null,
            null
           ],
           [
            null,
            null
           ],
           [
            null,
            null
           ],
           [
            null,
            null
           ]
          ],
          [
           [
            "NEG",
            "Y yo, soy muy torpe."
           ],
           [
            "NEU",
            "Ahora se llama torpeza; antes se llamaba inocencia y te encantaba."
           ],
           [
            "NEG",
            "Pero a mí no me ha encantado nunca."
           ],
           [
            "NEU",
            "De soltera leía cosas a escondidas."
           ],
           [
            "NEG",
            "Sudando de emoción y de vergüenza."
           ],
           [
            "NEG",
            "Nunca me enteré de nada."
           ],
           [
            "NEG",
            "Me latían las sienes, se me nublaban los ojos, se me contraían los músculos en un espasmo de náusea."
           ],
           [
            null,
            null
           ],
           [
            null,
            null
           ],
           [
            null,
            null
           ],
           [
            null,
            null
           ],
           [
            null,
            null
           ],
           [
            null,
            null
           ],
           [
            null,
            null
           ],
           [
            null,
            null
           ],
           [
            null,
            null
           ],
           [
            null,
            null
           ]
          ],
          [
           [
            "NEU",
            "El aceite está empezando a hervir."
           ],
           [
            "NEG",
            "Se me pasó la mano, manirrota, y ahora chisporrotea y salta y me quema."
           ],
           [
            "NEG",
            "Así voy a quemarme yo en los apretados infiernos por mi culpa, por mi culpa, por mi grandísima culpa."
           ],
           [
            "NEU",
            "Pero, niñita, tú no eres la única."
           ],
           [
            "NEU",
            "Todas tus compañeras de colegio hacen lo mismo, o cosas peores, se acusan en el confesionario, cumplen la penitencia, las perdonan y reinciden."
           ],
           [
            "NEU",
            "Todas."
           ],
           [
            "NEU",
            "Si yo hubiera seguido frecuentándolas me sujetarían ahora a un interrogatorio."
           ],
           [
            "NEU",
            "Las casadas para cerciorarse, las solteras para averiguar hasta dónde pueden aventurarse."
           ],
           [
            "NEU",
            "Imposible defraudarlas."
           ],
           [
            "NEU",
            "Yo inventaría acrobacias, desfallecimientos sublimes, transportes como se les llama en Las mil y una noches, récords."
           ],
           [
            "NEU",
            "¡Si me oyeras entonces no te reconocerías, Casanova!"
           ],
           [
            null,
            null
           ],
           [
            null,
            null
           ],
           [
            null,
            null
           ],
           [
            null,
            null
           ],
           [
            null,
            null
           ],
           [
            null,
            null
           ]
          ],
          [
           [
            "NEU",
            "Dejo caer la carne sobre la plancha e instintivamente retrocedo hasta la pared."
           ],
           [
            "NEG",
            "¡Qué estrépito!"
           ],
           [
            "NEU",
            "Ahora ha cesado."
           ],
           [
            "NEG",
            "La carne yace silenciosamente, fiel a su condición de cadáver."
           ],
           [
            "NEG",
            "Sigo creyendo que es demasiado grande."
           ],
           [
            null,
            null
           ],
           [
            null,
            null
           ],
           [
            null,
            null
           ],
           [
            null,
            null
           ],
           [
            null,
            null
           ],
           [
            null,
            null
           ],
           [
            null,
            null
           ],
           [
            null,
            null
           ],
           [
            null,
            null
           ],
           [
            null,
            null
           ],
           [
            null,
            null
           ],
           [
            null,
            null
           ]
          ],
          [
           [
            "NEU",
            "Y no es que me hayas defraudado."
           ],
           [
            "NEU",
            "Yo no esperaba, es cierto, nada en particular."
           ],
           [
            "POS",
            "Poco a poco iremos revelándonos mutuamente, descubriendo nuestros secretos, nuestros pequeños trucos, aprendiendo a complacernos."
           ],
           [
            "NEU",
            "Y un día tú y yo seremos una pareja de amantes perfectos y entonces, en la mitad de un abrazo, nos desvaneceremos y aparecerá en la pantalla la palabra"
           ],
           [
            null,
            null
           ],
           [
            null,
            null
           ],
           [
            null,
            null
           ],
           [
            null,
            null
           ],
           [
            null,
            null
           ],
           [
            null,
            null
           ],
           [
            null,
            null
           ],
           [
            null,
            null
           ],
           [
            null,
            null
           ],
           [
            null,
            null
           ],
           [
            null,
            null
           ],
           [
            null,
            null
           ],
           [
            null,
            null
           ]
          ],
          [
           [
            "NEU",
            "«fin»."
           ],
           [
            null,
            null
           ],
           [
            null,
            null
           ],
           [
            null,
            null
           ],
           [
            null,
            null
           ],
           [
            null,
            null
           ],
           [
            null,
            null
           ],
           [
            null,
            null
           ],
           [
            null,
            null
           ],
           [
            null,
            null
           ],
           [
            null,
            null
           ],
           [
            null,
            null
           ],
           [
            null,
            null
           ],
           [
            null,
            null
           ],
           [
            null,
            null
           ],
           [
            null,
            null
           ],
           [
            null,
            null
           ]
          ],
          [
           [
            "NEU",
            "¿Qué pasa?"
           ],
           [
            "NEG",
            "La carne se está encogiendo."
           ],
           [
            "NEU",
            "No, no me hago ilusiones, no me equivoco."
           ],
           [
            "NEU",
            "Se puede ver la marca de su tamaño original por el contorno que dibujó en la plancha."
           ],
           [
            "NEU",
            "Era un poco más grande."
           ],
           [
            "POS",
            "¡Qué bueno!"
           ],
           [
            "POS",
            "Ojalá quede a la medida de nuestro apetito."
           ],
           [
            null,
            null
           ],
           [
            null,
            null
           ],
           [
            null,
            null
           ],
           [
            null,
            null
           ],
           [
            null,
            null
           ],
           [
            null,
            null
           ],
           [
            null,
            null
           ],
           [
            null,
            null
           ],
           [
            null,
            null
           ],
           [
            null,
            null
           ]
          ],
          [
           [
            "NEU",
            "Para la siguiente película me gustaría que me encargaran otro papel."
           ],
           [
            "NEU",
            "¿Bruja blanca en una aldea salvaje?"
           ],
           [
            "NEU",
            "No, hoy no me siento inclinada ni al heroísmo ni al peligro."
           ],
           [
            "NEU",
            "Más bien mujer famosa (diseñadora de modas o algo así), independiente y rica que vive sola en un apartamento en Nueva York, París o Londres."
           ],
           [
            "NEU",
            "Sus «affaires» ocasionales la divierten pero no la alteran."
           ],
           [
            "NEU",
            "No es"
           ],
           [
            null,
            null
           ],
           [
            null,
            null
           ],
           [
            null,
            null
           ],
           [
            null,
            null
           ],
           [
            null,
            null
           ],
           [
            null,
            null
           ],
           [
            null,
            null
           ],
           [
            null,
            null
           ],
           [
            null,
            null
           ],
           [
            null,
            null
           ],
           [
            null,
            null
           ]
          ],
          [
           [
            "NEU",
            "sentimental."
           ],
           [
            "NEU",
            "Después de una escena de ruptura enciende un cigarrillo y contempla el paisaje urbano al través de los grandes ventanales de su estudio."
           ],
           [
            null,
            null
           ],
           [
            null,
            null
           ],
           [
            null,
            null
           ],
           [
            null,
            null
           ],
           [
            null,
            null
           ],
           [
            null,
            null
           ],
           [
            null,
            null
           ],
           [
            null,
            null
           ],
           [
            null,
            null
           ],
           [
            null,
            null
           ],
           [
            null,
            null
           ],
           [
            null,
            null
           ],
           [
            null,
            null
           ],
           [
            null,
            null
           ],
           [
            null,
            null
           ]
          ],
          [
           [
            "NEU",
            "Ah, el color de la carne es ahora mucho más decente."
           ],
           [
            "NEG",
            "Sólo en algunos puntos se obstina en recordar su crudeza."
           ],
           [
            "POS",
            "Pero lo demás es dorado y exhala un aroma delicioso."
           ],
           [
            "NEU",
            "¿Irá a ser suficiente para los dos?"
           ],
           [
            "NEU",
            "La estoy viendo muy pequeña."
           ],
           [
            null,
            null
           ],
           [
            null,
            null
           ],
           [
            null,
            null
           ],
           [
            null,
            null
           ],
           [
            null,
            null
           ],
           [
            null,
            null
           ],
           [
            null,
            null
           ],
           [
            null,
            null
           ],
           [
            null,
            null
           ],
           [
            null,
            null
           ],
           [
            null,
            null
           ],
           [
            null,
            null
           ]
          ],
          [
           [
            "NEU",
            "Si ahora mismo me arreglara, estrenara uno de esos modelos que forman parte de mi trousseau y saliera a la calle ¿qué sucedería, eh?"
           ],
           [
            "NEU",
            "A la mejor me abordaba un hombre maduro, con automóvil y todo."
           ],
           [
            "NEG",
            "Maduro."
           ],
           [
            "NEU",
            "Retirado."
           ],
           [
            "NEU",
            "El único que a estas horas puede darse el lujo de andar de cacería."
           ],
           [
            null,
            null
           ],
           [
            null,
            null
           ],
           [
            null,
            null
           ],
           [
            null,
            null
           ],
           [
            null,
            null
           ],
           [
            null,
            null
           ],
           [
            null,
            null
           ],
           [
            null,
            null
           ],
           [
            null,
            null
           ],
           [
            null,
            null
           ],
           [
            null,
            null
           ],
           [
            null,
            null
           ]
          ],
          [
           [
            "NEU",
            "¿Qué rayos pasa?"
           ],
           [
            "NEG",
            "Esta maldita carne está empezando a soltar un humo negro y horrible."
           ],
           [
            "NEG",
            "¡Tenía yo que haberle dado vuelta!"
           ],
           [
            "NEG",
            "Quemada de un lado."
           ],
           [
            "NEU",
            "Menos mal que tiene dos."
           ],
           [
            null,
            null
           ],
           [
            null,
            null
           ],
           [
            null,
            null
           ],
           [
            null,
            null
           ],
           [
            null,
            null
           ],
           [
            null,
            null
           ],
           [
            null,
            null
           ],
           [
            null,
            null
           ],
           [
            null,
            null
           ],
           [
            null,
            null
           ],
           [
            null,
            null
           ],
           [
            null,
            null
           ]
          ],
          [
           [
            "NEU",
            "Señorita, si usted me permitiera… ¡Señora!"
           ],
           [
            "NEU",
            "Y le advierto que mi marido es muy celoso… Entonces no debería dejarla andar sola."
           ],
           [
            "NEU",
            "Es usted una tentación para cualquier viandante."
           ],
           [
            "NEU",
            "Nadie en el mundo dice viandante."
           ],
           [
            "NEU",
            "¿Transeúnte?"
           ],
           [
            "NEG",
            "Sólo los periódicos cuando hablan de los atropellados."
           ],
           [
            "NEU",
            "Es usted una tentación para cualquier x. Silencio."
           ],
           [
            "NEU",
            "Sig-ni-fi-ca-ti-vo."
           ],
           [
            "NEU",
            "Miradas de esfinge."
           ],
           [
            "NEU",
            "El hombre maduro me sigue a prudente distancia."
           ],
           [
            "NEU",
            "Más le vale."
           ],
           [
            "NEU",
            "Más me vale a mí porque en la esquina ¡zas!"
           ],
           [
            "NEG",
            "Mi marido, que me espía, que no me deja ni a sol ni a sombra, que sospecha de todo y de todos, señor juez."
           ],
           [
            "NEG",
            "Que así no es posible vivir, que yo quiero divorciarme."
           ],
           [
            null,
            null
           ],
           [
            null,
            null
           ],
           [
            null,
            null
           ]
          ],
          [
           [
            "NEU",
            "¿Y ahora qué?"
           ],
           [
            "NEG",
            "A esta carne su mamá no le enseñó que era carne y que debería de comportarse con conducta."
           ],
           [
            "NEG",
            "Se enrosca igual que una charamusca."
           ],
           [
            "NEG",
            "Además yo no sé de dónde puede seguir sacando tanto humo si ya apagué la estufa hace siglos."
           ],
           [
            "POS",
            "Claro, claro, doctora Corazón."
           ],
           [
            "NEU",
            "Lo que procede ahora es abrir la ventana, conectar el purificador de aire para que no huela a nada cuando venga mi marido."
           ],
           [
            "POS",
            "Y yo saldría muy mona a recibirlo a la puerta, con mi mejor vestido, mi mejor sonrisa y mi más cardial invitación a comer fuera."
           ],
           [
            null,
            null
           ],
           [
            null,
            null
           ],
           [
            null,
            null
           ],
           [
            null,
            null
           ],
           [
            null,
            null
           ],
           [
            null,
            null
           ],
           [
            null,
            null
           ],
           [
            null,
            null
           ],
           [
            null,
            null
           ],
           [
            null,
            null
           ]
          ],
          [
           [
            "NEU",
            "Es una posibilidad."
           ],
           [
            "NEG",
            "Nosotros examinaríamos la carta del restaurante mientras un miserable pedazo de carne carbonizada, yacería, oculta, en el fondo del bote de la basura."
           ],
           [
            "NEU",
            "Yo me cuidaría mucho de no mencionar el incidente y sería considerada como una esposa un poco irresponsable, con proclividades a la frivolidad pero no como una tarada."
           ],
           [
            "NEU",
            "Ésta es la primera imagen pública que proyecto y he de mantenerme después consecuente con ella, aunque sea inexacta."
           ],
           [
            null,
            null
           ],
           [
            null,
            null
           ],
           [
            null,
            null
           ],
           [
            null,
            null
           ],
           [
            null,
            null
           ],
           [
            null,
            null
           ],
           [
            null,
            null
           ],
           [
            null,
            null
           ],
           [
            null,
            null
           ],
           [
            null,
            null
           ],
           [
            null,
            null
           ],
           [
            null,
            null
           ],
           [
            null,
            null
           ]
          ],
          [
           [
            "NEU",
            "Hay otra posibilidad."
           ],
           [
            "NEU",
            "No abrir la ventana, no conectar el purificador de aire, no tirar la carne a la basura."
           ],
           [
            "NEG",
            "Y cuando venga mi marido dejar que olfatee, como los ogros de los cuentos, y diga que aquí huele, no a carne humana, sino a mujer inútil."
           ],
           [
            "NEU",
            "Yo exageraré mi compunción para incitarlo a la magnanimidad."
           ],
           [
            "NEU",
            "Después de todo, lo ocurrido ¡es tan normal!"
           ],
           [
            "NEG",
            "¿A qué recién casada no le pasa lo que a mí acaba de pasarme?"
           ],
           [
            "NEU",
            "Cuando vayamos a visitar a mi suegra, ella, que todavía está en la etapa de no agredirme porque no conoce aún cuáles son mis puntos débiles, me relatará sus propias experiencias."
           ],
           [
            "NEU",
            "Aquella vez, por ejemplo, que su marido le pidió un par de huevos estrellados y ella tomó la"
           ],
           [
            null,
            null
           ],
           [
            null,
            null
           ],
           [
            null,
            null
           ],
           [
            null,
            null
           ],
           [
            null,
            null
           ],
           [
            null,
            null
           ],
           [
            null,
            null
           ],
           [
            null,
            null
           ],
           [
            null,
            null
           ]
          ],
          [
           [
            "NEU",
            "frase al pie de la letra y… ja, ja, ja."
           ],
           [
            "NEU",
            "¿Fue eso un obstáculo para que llegara a convertirse en una viuda fabulosa, digo, en una cocinera fabulosa?"
           ],
           [
            "NEU",
            "Porque lo de la viudez sobrevino mucho más tarde y por otras causas."
           ],
           [
            "NEU",
            "A partir de entonces ella dio rienda suelta a sus instintos maternales y echó a perder con sus mimos…"
           ],
           [
            null,
            null
           ],
           [
            null,
            null
           ],
           [
            null,
            null
           ],
           [
            null,
            null
           ],
           [
            null,
            null
           ],
           [
            null,
            null
           ],
           [
            null,
            null
           ],
           [
            null,
            null
           ],
           [
            null,
            null
           ],
           [
            null,
            null
           ],
           [
            null,
            null
           ],
           [
            null,
            null
           ],
           [
            null,
            null
           ]
          ],
          [
           [
            "NEG",
            "No, no le va a hacer la menor gracia."
           ],
           [
            "NEG",
            "Va a decir que me distraje, que es el colmo del descuido."
           ],
           [
            "NEU",
            "Y, sí, por condescendencia yo voy a aceptar sus acusaciones."
           ],
           [
            null,
            null
           ],
           [
            null,
            null
           ],
           [
            null,
            null
           ],
           [
            null,
            null
           ],
           [
            null,
            null
           ],
           [
            null,
            null
           ],
           [
            null,
            null
           ],
           [
            null,
            null
           ],
           [
            null,
            null
           ],
           [
            null,
            null
           ],
           [
            null,
            null
           ],
           [
            null,
            null
           ],
           [
            null,
            null
           ],
           [
            null,
            null
           ]
          ],
          [
           [
            "NEG",
            "Pero no es verdad, no es verdad."
           ],
           [
            "NEG",
            "Yo estuve todo el tiempo pendiente de la carne, fijándome en que le sucedían una serie de cosas rarísimas."
           ],
           [
            "NEU",
            "Con razón Santa Teresa decía que Dios anda en los pucheros."
           ],
           [
            "NEU",
            "O la materia que es energía o como se llame ahora."
           ],
           [
            null,
            null
           ],
           [
            null,
            null
           ],
           [
            null,
            null
           ],
           [
            null,
            null
           ],
           [
            null,
            null
           ],
           [
            null,
            null
           ],
           [
            null,
            null
           ],
           [
            null,
            null
           ],
           [
            null,
            null
           ],
           [
            null,
            null
           ],
           [
            null,
            null
           ],
           [
            null,
            null
           ],
           [
            null,
            null
           ]
          ],
          [
           [
            "NEU",
            "Recapitulemos."
           ],
           [
            "NEU",
            "Aparece, primero el trozo de carne con un color, una forma, un tamaño."
           ],
           [
            "POS",
            "Luego cambia y se pone más bonita y se siente una muy contenta."
           ],
           [
            "NEG",
            "Luego vuelve a cambiar y ya no está tan bonita."
           ],
           [
            "NEG",
            "Y sigue cambiando y cambiando y cambiando y lo que uno no atina es cuándo pararle el alto."
           ],
           [
            null,
            null
           ],
           [
            null,
            null
           ],
           [
            null,
            null
           ],
           [
            null,
            null
           ],
           [
            null,
            null
           ],
           [
            null,
            null
           ],
           [
            null,
            null
           ],
           [
            null,
            null
           ],
           [
            null,
            null
           ],
           [
            null,
            null
           ],
           [
            null,
            null
           ],
           [
            null,
            null
           ]
          ],
          [
           [
            "NEG",
            "Porque si yo dejo este trozo de carne indefinidamente expuesto al fuego, se consume hasta que no queden ni rastros de él."
           ],
           [
            "NEG",
            "Y el trozo de carne que daba la impresión de ser algo tan sólido, tan real, ya no existe."
           ],
           [
            null,
            null
           ],
           [
            null,
            null
           ],
           [
            null,
            null
           ],
           [
            null,
            null
           ],
           [
            null,
            null
           ],
           [
            null,
            null
           ],
           [
            null,
            null
           ],
           [
            null,
            null
           ],
           [
            null,
            null
           ],
           [
            null,
            null
           ],
           [
            null,
            null
           ],
           [
            null,
            null
           ],
           [
            null,
            null
           ],
           [
            null,
            null
           ],
           [
            null,
            null
           ]
          ],
          [
           [
            "NEU",
            "¿Entonces?"
           ],
           [
            "POS",
            "Mi marido también da la impresión de solidez y de realidad cuando estamos juntos, cuando lo toco, cuando lo veo."
           ],
           [
            "NEU",
            "Seguramente cambia, y cambio yo también, aunque de manera tan lenta, tan morosa que ninguno de los dos lo advierte."
           ],
           [
            "NEU",
            "Después se va y bruscamente se convierte en recuerdo y… Ah, no, no voy a caer en esa trampa: la del personaje inventado y el narrador inventado y la anécdota inventada."
           ],
           [
            "NEU",
            "Además, no es la consecuencia que se deriva lícitamente del episodio de la carne."
           ],
           [
            null,
            null
           ],
           [
            null,
            null
           ],
           [
            null,
            null
           ],
           [
            null,
            null
           ],
           [
            null,
            null
           ],
           [
            null,
            null
           ],
           [
            null,
            null
           ],
           [
            null,
            null
           ],
           [
            null,
            null
           ],
           [
            null,
            null
           ],
           [
            null,
            null
           ],
           [
            null,
            null
           ]
          ],
          [
           [
            "NEU",
            "La carne no ha dejado de existir."
           ],
           [
            "NEG",
            "Ha sufrido una serie de metamorfosis."
           ],
           [
            "NEU",
            "Y el hecho de que cese de ser perceptible para los sentidos no significa que se haya concluido el ciclo sino que ha dado el salto cualitativo."
           ],
           [
            "NEU",
            "Continuará operando en otros niveles."
           ],
           [
            "NEU",
            "En el de mi conciencia, en el de mi memoria, en el de mi voluntad, modificándome, determinándome, estableciendo la dirección de mi futuro."
           ],
           [
            null,
            null
           ],
           [
            null,
            null
           ],
           [
            null,
            null
           ],
           [
            null,
            null
           ],
           [
            null,
            null
           ],
           [
            null,
            null
           ],
           [
            null,
            null
           ],
           [
            null,
            null
           ],
           [
            null,
            null
           ],
           [
            null,
            null
           ],
           [
            null,
            null
           ],
           [
            null,
            null
           ]
          ],
          [
           [
            "NEU",
            "Yo seré, de hoy en adelante, lo que elija en este momento."
           ],
           [
            "NEG",
            "Seductoramente aturdida, profundamente reservada, hipócrita."
           ],
           [
            "NEU",
            "Yo impondré, desde el principio, y con un poco de impertinencia, las reglas del juego."
           ],
           [
            "NEU",
            "Mi marido resentirá la impronta de mi dominio que irá dilatándose, como los círculos en la superficie del agua sobre la que se ha arrojado una piedra."
           ],
           [
            "NEU",
            "Forcejeará por prevalecer y si cede yo le corresponderé con el desprecio y si no cede yo no seré capaz de perdonarlo."
           ],
           [
            null,
            null
           ],
           [
            null,
            null
           ],
           [
            null,
            null
           ],
           [
            null,
            null
           ],
           [
            null,
            null
           ],
           [
            null,
            null
           ],
           [
            null,
            null
           ],
           [
            null,
            null
           ],
           [
            null,
            null
           ],
           [
            null,
            null
           ],
           [
            null,
            null
           ],
           [
            null,
            null
           ]
          ],
          [
           [
            "NEU",
            "Si asumo la otra actitud, si soy el caso típico, la femineidad que solicita indulgencia para sus errores, la balanza se inclinará a favor de mi antagonista y yo participaré en la competencia con un handicap que, aparentemente, me destina a la derrota y que, en el fondo, me garantiza el triunfo por la sinuosa vía que recorrieron mis antepasadas, las humildes, las que no abrían los labios sino para asentir, y lograron la obediencia ajena hasta al más irracional"
           ],
           [
            null,
            null
           ],
           [
            null,
            null
           ],
           [
            null,
            null
           ],
           [
            null,
            null
           ],
           [
            null,
            null
           ],
           [
            null,
            null
           ],
           [
            null,
            null
           ],
           [
            null,
            null
           ],
           [
            null,
            null
           ],
           [
            null,
            null
           ],
           [
            null,
            null
           ],
           [
            null,
            null
           ],
           [
            null,
            null
           ],
           [
            null,
            null
           ],
           [
            null,
            null
           ],
           [
            null,
            null
           ]
          ],
          [
           [
            "NEU",
            "de sus caprichos."
           ],
           [
            "NEU",
            "La recela, pues, es vieja y su eficacia está comprobada."
           ],
           [
            "NEU",
            "Si todavía lo dudo me basta preguntar a la más próxima de mis vecinas."
           ],
           [
            "NEU",
            "Ella confirmará mi certidumbre."
           ],
           [
            null,
            null
           ],
           [
            null,
            null
           ],
           [
            null,
            null
           ],
           [
            null,
            null
           ],
           [
            null,
            null
           ],
           [
            null,
            null
           ],
           [
            null,
            null
           ],
           [
            null,
            null
           ],
           [
            null,
            null
           ],
           [
            null,
            null
           ],
           [
            null,
            null
           ],
           [
            null,
            null
           ],
           [
            null,
            null
           ]
          ],
          [
           [
            "NEG",
            "Sólo que me repugna actuar así."
           ],
           [
            "NEG",
            "Esta definición no me es aplicable y tampoco la anterior, ninguna corresponde a mi verdad interna, ninguna salvaguarda mi autenticidad."
           ],
           [
            "NEU",
            "¿He de acogerme a cualquiera de ellas y ceñirme a sus términos sólo porque es un lugar común aceptado por la mayoría y comprensible para todos?"
           ],
           [
            "NEU",
            "Y no es que yo sea una «rara avis»."
           ],
           [
            "NEU",
            "De mí se puede decir lo que Pfandl dijo de Sor Juana: que pertenezco a la clase de neuróticos cavilosos."
           ],
           [
            "NEU",
            "El diagnóstico es muy fácil ¿pero qué consecuencias acarrearía asumirlo?"
           ],
           [
            null,
            null
           ],
           [
            null,
            null
           ],
           [
            null,
            null
           ],
           [
            null,
            null
           ],
           [
            null,
            null
           ],
           [
            null,
            null
           ],
           [
            null,
            null
           ],
           [
            null,
            null
           ],
           [
            null,
            null
           ],
           [
            null,
            null
           ],
           [
            null,
            null
           ]
          ],
          [
           [
            "NEU",
            "Si insisto en afirmar mi versión de los hechos mi marido va a mirarme con suspicacia, va a sentirse incómodo en mi compañía y va a vivir en la continua expectativa de que se me declare la locura."
           ],
           [
            null,
            null
           ],
           [
            null,
            null
           ],
           [
            null,
            null
           ],
           [
            null,
            null
           ],
           [
            null,
            null
           ],
           [
            null,
            null
           ],
           [
            null,
            null
           ],
           [
            null,
            null
           ],
           [
            null,
            null
           ],
           [
            null,
            null
           ],
           [
            null,
            null
           ],
           [
            null,
            null
           ],
           [
            null,
            null
           ],
           [
            null,
            null
           ],
           [
            null,
            null
           ],
           [
            null,
            null
           ]
          ],
          [
           [
            "NEG",
            "Nuestra convivencia no podrá ser más problemática."
           ],
           [
            "NEU",
            "Y él no quiere conflictos de ninguna índole."
           ],
           [
            "NEU",
            "Menos aún conflictos tan abstractos, tan absurdos, tan metafísicos como los que yo le plantearía."
           ],
           [
            "NEU",
            "Su hogar es el remanso de paz en que se refugia de las tempestades de la vida."
           ],
           [
            "NEU",
            "De acuerdo."
           ],
           [
            "POS",
            "Yo lo acepté al casarme y estaba dispuesta a llegar hasta el sacrificio en aras de la armonía conyugal."
           ],
           [
            "NEU",
            "Pero yo contaba con que el sacrificio, el renunciamiento completo a lo que soy, no se me demandaría más que en la Ocasión Sublime, en la Hora de las Grandes Resoluciones, en el Momento de la Decisión Definitiva."
           ],
           [
            "NEG",
            "No con lo que me he topado hoy que es algo muy insignificante, muy ridículo."
           ],
           [
            "NEU",
            "Y sin embargo…"
           ],
           [
            null,
            null
           ],
           [
            null,
            null
           ],
           [
            null,
            null
           ],
           [
            null,
            null
           ],
           [
            null,
            null
           ],
           [
            null,
            null
           ],
           [
            null,
            null
           ],
           [
            null,
            null
           ]
          ]
         ],
         "hovertemplate": "<b>Oración</b>: %{x}<br><b>Párrafo</b>: %{y}<br><b>Sentimiento</b>: %{customdata[0]}<br><b>Texto</b>: %{customdata[1]}",
         "name": "0",
         "type": "heatmap",
         "x": [
          "s001",
          "s002",
          "s003",
          "s004",
          "s005",
          "s006",
          "s007",
          "s008",
          "s009",
          "s010",
          "s011",
          "s012",
          "s013",
          "s014",
          "s015",
          "s016",
          "s017"
         ],
         "xaxis": "x",
         "y": [
          "p001",
          "p002",
          "p003",
          "p004",
          "p005",
          "p006",
          "p007",
          "p008",
          "p009",
          "p010",
          "p011",
          "p012",
          "p013",
          "p014",
          "p015",
          "p016",
          "p017",
          "p018",
          "p019",
          "p020",
          "p021",
          "p022",
          "p023",
          "p024",
          "p025",
          "p026",
          "p027",
          "p028",
          "p029",
          "p030",
          "p031",
          "p032",
          "p033",
          "p034",
          "p035",
          "p036",
          "p037",
          "p038",
          "p039",
          "p040",
          "p041",
          "p042",
          "p043",
          "p044",
          "p045",
          "p046",
          "p047",
          "p048",
          "p049",
          "p050",
          "p051",
          "p052",
          "p053",
          "p054",
          "p055",
          "p056",
          "p057",
          "p058",
          "p059"
         ],
         "yaxis": "y",
         "z": [
          [
           0,
           -1,
           0,
           0,
           -1,
           0,
           0,
           0,
           0,
           -1,
           0,
           0,
           0,
           1,
           null,
           null,
           null
          ],
          [
           0,
           0,
           0,
           0,
           -1,
           0,
           0,
           0,
           0,
           -1,
           0,
           0,
           -1,
           -1,
           -1,
           -1,
           0
          ],
          [
           0,
           0,
           1,
           1,
           -1,
           null,
           null,
           null,
           null,
           null,
           null,
           null,
           null,
           null,
           null,
           null,
           null
          ],
          [
           -1,
           0,
           null,
           null,
           null,
           null,
           null,
           null,
           null,
           null,
           null,
           null,
           null,
           null,
           null,
           null,
           null
          ],
          [
           0,
           -1,
           null,
           null,
           null,
           null,
           null,
           null,
           null,
           null,
           null,
           null,
           null,
           null,
           null,
           null,
           null
          ],
          [
           -1,
           0,
           null,
           null,
           null,
           null,
           null,
           null,
           null,
           null,
           null,
           null,
           null,
           null,
           null,
           null,
           null
          ],
          [
           0,
           0,
           null,
           null,
           null,
           null,
           null,
           null,
           null,
           null,
           null,
           null,
           null,
           null,
           null,
           null,
           null
          ],
          [
           -1,
           -1,
           0,
           0,
           0,
           0,
           null,
           null,
           null,
           null,
           null,
           null,
           null,
           null,
           null,
           null,
           null
          ],
          [
           -1,
           -1,
           0,
           -1,
           0,
           null,
           null,
           null,
           null,
           null,
           null,
           null,
           null,
           null,
           null,
           null,
           null
          ],
          [
           -1,
           -1,
           null,
           null,
           null,
           null,
           null,
           null,
           null,
           null,
           null,
           null,
           null,
           null,
           null,
           null,
           null
          ],
          [
           0,
           0,
           -1,
           null,
           null,
           null,
           null,
           null,
           null,
           null,
           null,
           null,
           null,
           null,
           null,
           null,
           null
          ],
          [
           0,
           -1,
           0,
           null,
           null,
           null,
           null,
           null,
           null,
           null,
           null,
           null,
           null,
           null,
           null,
           null,
           null
          ],
          [
           -1,
           0,
           0,
           -1,
           0,
           1,
           -1,
           0,
           0,
           -1,
           null,
           null,
           null,
           null,
           null,
           null,
           null
          ],
          [
           0,
           null,
           null,
           null,
           null,
           null,
           null,
           null,
           null,
           null,
           null,
           null,
           null,
           null,
           null,
           null,
           null
          ],
          [
           0,
           null,
           null,
           null,
           null,
           null,
           null,
           null,
           null,
           null,
           null,
           null,
           null,
           null,
           null,
           null,
           null
          ],
          [
           0,
           0,
           -1,
           -1,
           -1,
           0,
           -1,
           null,
           null,
           null,
           null,
           null,
           null,
           null,
           null,
           null,
           null
          ],
          [
           -1,
           -1,
           0,
           null,
           null,
           null,
           null,
           null,
           null,
           null,
           null,
           null,
           null,
           null,
           null,
           null,
           null
          ],
          [
           -1,
           null,
           null,
           null,
           null,
           null,
           null,
           null,
           null,
           null,
           null,
           null,
           null,
           null,
           null,
           null,
           null
          ],
          [
           0,
           0,
           -1,
           0,
           0,
           -1,
           0,
           0,
           -1,
           -1,
           null,
           null,
           null,
           null,
           null,
           null,
           null
          ],
          [
           0,
           0,
           0,
           1,
           0,
           null,
           null,
           null,
           null,
           null,
           null,
           null,
           null,
           null,
           null,
           null,
           null
          ],
          [
           0,
           -1,
           0,
           0,
           0,
           0,
           0,
           null,
           null,
           null,
           null,
           null,
           null,
           null,
           null,
           null,
           null
          ],
          [
           0,
           0,
           null,
           null,
           null,
           null,
           null,
           null,
           null,
           null,
           null,
           null,
           null,
           null,
           null,
           null,
           null
          ],
          [
           0,
           -1,
           -1,
           0,
           null,
           null,
           null,
           null,
           null,
           null,
           null,
           null,
           null,
           null,
           null,
           null,
           null
          ],
          [
           0,
           0,
           0,
           -1,
           0,
           -1,
           -1,
           0,
           null,
           null,
           null,
           null,
           null,
           null,
           null,
           null,
           null
          ],
          [
           0,
           -1,
           1,
           0,
           0,
           0,
           0,
           0,
           null,
           null,
           null,
           null,
           null,
           null,
           null,
           null,
           null
          ],
          [
           0,
           0,
           0,
           0,
           -1,
           0,
           0,
           1,
           -1,
           null,
           null,
           null,
           null,
           null,
           null,
           null,
           null
          ],
          [
           0,
           0,
           0,
           -1,
           0,
           0,
           null,
           null,
           null,
           null,
           null,
           null,
           null,
           null,
           null,
           null,
           null
          ],
          [
           0,
           0,
           0,
           -1,
           null,
           null,
           null,
           null,
           null,
           null,
           null,
           null,
           null,
           null,
           null,
           null,
           null
          ],
          [
           0,
           -1,
           0,
           -1,
           0,
           1,
           null,
           null,
           null,
           null,
           null,
           null,
           null,
           null,
           null,
           null,
           null
          ],
          [
           -1,
           null,
           null,
           null,
           null,
           null,
           null,
           null,
           null,
           null,
           null,
           null,
           null,
           null,
           null,
           null,
           null
          ],
          [
           0,
           0,
           0,
           null,
           null,
           null,
           null,
           null,
           null,
           null,
           null,
           null,
           null,
           null,
           null,
           null,
           null
          ],
          [
           -1,
           0,
           -1,
           0,
           -1,
           -1,
           -1,
           null,
           null,
           null,
           null,
           null,
           null,
           null,
           null,
           null,
           null
          ],
          [
           0,
           -1,
           -1,
           0,
           0,
           0,
           0,
           0,
           0,
           0,
           0,
           null,
           null,
           null,
           null,
           null,
           null
          ],
          [
           0,
           -1,
           0,
           -1,
           -1,
           null,
           null,
           null,
           null,
           null,
           null,
           null,
           null,
           null,
           null,
           null,
           null
          ],
          [
           0,
           0,
           1,
           0,
           null,
           null,
           null,
           null,
           null,
           null,
           null,
           null,
           null,
           null,
           null,
           null,
           null
          ],
          [
           0,
           null,
           null,
           null,
           null,
           null,
           null,
           null,
           null,
           null,
           null,
           null,
           null,
           null,
           null,
           null,
           null
          ],
          [
           0,
           -1,
           0,
           0,
           0,
           1,
           1,
           null,
           null,
           null,
           null,
           null,
           null,
           null,
           null,
           null,
           null
          ],
          [
           0,
           0,
           0,
           0,
           0,
           0,
           null,
           null,
           null,
           null,
           null,
           null,
           null,
           null,
           null,
           null,
           null
          ],
          [
           0,
           0,
           null,
           null,
           null,
           null,
           null,
           null,
           null,
           null,
           null,
           null,
           null,
           null,
           null,
           null,
           null
          ],
          [
           0,
           -1,
           1,
           0,
           0,
           null,
           null,
           null,
           null,
           null,
           null,
           null,
           null,
           null,
           null,
           null,
           null
          ],
          [
           0,
           0,
           -1,
           0,
           0,
           null,
           null,
           null,
           null,
           null,
           null,
           null,
           null,
           null,
           null,
           null,
           null
          ],
          [
           0,
           -1,
           -1,
           -1,
           0,
           null,
           null,
           null,
           null,
           null,
           null,
           null,
           null,
           null,
           null,
           null,
           null
          ],
          [
           0,
           0,
           0,
           0,
           0,
           -1,
           0,
           0,
           0,
           0,
           0,
           0,
           -1,
           -1,
           null,
           null,
           null
          ],
          [
           0,
           -1,
           -1,
           -1,
           1,
           0,
           1,
           null,
           null,
           null,
           null,
           null,
           null,
           null,
           null,
           null,
           null
          ],
          [
           0,
           -1,
           0,
           0,
           null,
           null,
           null,
           null,
           null,
           null,
           null,
           null,
           null,
           null,
           null,
           null,
           null
          ],
          [
           0,
           0,
           -1,
           0,
           0,
           -1,
           0,
           0,
           null,
           null,
           null,
           null,
           null,
           null,
           null,
           null,
           null
          ],
          [
           0,
           0,
           0,
           0,
           null,
           null,
           null,
           null,
           null,
           null,
           null,
           null,
           null,
           null,
           null,
           null,
           null
          ],
          [
           -1,
           -1,
           0,
           null,
           null,
           null,
           null,
           null,
           null,
           null,
           null,
           null,
           null,
           null,
           null,
           null,
           null
          ],
          [
           -1,
           -1,
           0,
           0,
           null,
           null,
           null,
           null,
           null,
           null,
           null,
           null,
           null,
           null,
           null,
           null,
           null
          ],
          [
           0,
           0,
           1,
           -1,
           -1,
           null,
           null,
           null,
           null,
           null,
           null,
           null,
           null,
           null,
           null,
           null,
           null
          ],
          [
           -1,
           -1,
           null,
           null,
           null,
           null,
           null,
           null,
           null,
           null,
           null,
           null,
           null,
           null,
           null,
           null,
           null
          ],
          [
           0,
           1,
           0,
           0,
           0,
           null,
           null,
           null,
           null,
           null,
           null,
           null,
           null,
           null,
           null,
           null,
           null
          ],
          [
           0,
           -1,
           0,
           0,
           0,
           null,
           null,
           null,
           null,
           null,
           null,
           null,
           null,
           null,
           null,
           null,
           null
          ],
          [
           0,
           -1,
           0,
           0,
           0,
           null,
           null,
           null,
           null,
           null,
           null,
           null,
           null,
           null,
           null,
           null,
           null
          ],
          [
           0,
           null,
           null,
           null,
           null,
           null,
           null,
           null,
           null,
           null,
           null,
           null,
           null,
           null,
           null,
           null,
           null
          ],
          [
           0,
           0,
           0,
           0,
           null,
           null,
           null,
           null,
           null,
           null,
           null,
           null,
           null,
           null,
           null,
           null,
           null
          ],
          [
           -1,
           -1,
           0,
           0,
           0,
           0,
           null,
           null,
           null,
           null,
           null,
           null,
           null,
           null,
           null,
           null,
           null
          ],
          [
           0,
           null,
           null,
           null,
           null,
           null,
           null,
           null,
           null,
           null,
           null,
           null,
           null,
           null,
           null,
           null,
           null
          ],
          [
           -1,
           0,
           0,
           0,
           0,
           1,
           0,
           -1,
           0,
           null,
           null,
           null,
           null,
           null,
           null,
           null,
           null
          ]
         ]
        }
       ],
       "layout": {
        "coloraxis": {
         "colorbar": {
          "len": 100,
          "lenmode": "pixels",
          "ticktext": [
           "Negativo",
           "Neutro",
           "Positivo"
          ],
          "tickvals": [
           -1,
           0,
           1
          ],
          "title": {
           "text": ""
          },
          "x": 0.8,
          "xanchor": "left",
          "y": 0.2,
          "yanchor": "top"
         },
         "colorscale": [
          [
           0,
           "#d93806"
          ],
          [
           0.07142857142857142,
           "#d93806"
          ],
          [
           0.14285714285714285,
           "#d93806"
          ],
          [
           0.21428571428571427,
           "#d93806"
          ],
          [
           0.2857142857142857,
           "#d93806"
          ],
          [
           0.35714285714285715,
           "#a4fc3b"
          ],
          [
           0.42857142857142855,
           "#a4fc3b"
          ],
          [
           0.5,
           "#a4fc3b"
          ],
          [
           0.5714285714285714,
           "#a4fc3b"
          ],
          [
           0.6428571428571429,
           "#a4fc3b"
          ],
          [
           0.7142857142857143,
           "#4675ed"
          ],
          [
           0.7857142857142857,
           "#4675ed"
          ],
          [
           0.8571428571428571,
           "#4675ed"
          ],
          [
           0.9285714285714286,
           "#4675ed"
          ],
          [
           1,
           "#4675ed"
          ]
         ],
         "showscale": true
        },
        "height": 800,
        "hoverlabel": {
         "font": {
          "size": 12
         }
        },
        "legend": {
         "orientation": "h",
         "title": {
          "text": "Sentimiento"
         },
         "x": 1,
         "xanchor": "right",
         "y": 1.02,
         "yanchor": "bottom"
        },
        "plot_bgcolor": "rgba(0, 0, 0, 0)",
        "template": {
         "data": {
          "bar": [
           {
            "error_x": {
             "color": "#2a3f5f"
            },
            "error_y": {
             "color": "#2a3f5f"
            },
            "marker": {
             "line": {
              "color": "#E5ECF6",
              "width": 0.5
             },
             "pattern": {
              "fillmode": "overlay",
              "size": 10,
              "solidity": 0.2
             }
            },
            "type": "bar"
           }
          ],
          "barpolar": [
           {
            "marker": {
             "line": {
              "color": "#E5ECF6",
              "width": 0.5
             },
             "pattern": {
              "fillmode": "overlay",
              "size": 10,
              "solidity": 0.2
             }
            },
            "type": "barpolar"
           }
          ],
          "carpet": [
           {
            "aaxis": {
             "endlinecolor": "#2a3f5f",
             "gridcolor": "white",
             "linecolor": "white",
             "minorgridcolor": "white",
             "startlinecolor": "#2a3f5f"
            },
            "baxis": {
             "endlinecolor": "#2a3f5f",
             "gridcolor": "white",
             "linecolor": "white",
             "minorgridcolor": "white",
             "startlinecolor": "#2a3f5f"
            },
            "type": "carpet"
           }
          ],
          "choropleth": [
           {
            "colorbar": {
             "outlinewidth": 0,
             "ticks": ""
            },
            "type": "choropleth"
           }
          ],
          "contour": [
           {
            "colorbar": {
             "outlinewidth": 0,
             "ticks": ""
            },
            "colorscale": [
             [
              0,
              "#0d0887"
             ],
             [
              0.1111111111111111,
              "#46039f"
             ],
             [
              0.2222222222222222,
              "#7201a8"
             ],
             [
              0.3333333333333333,
              "#9c179e"
             ],
             [
              0.4444444444444444,
              "#bd3786"
             ],
             [
              0.5555555555555556,
              "#d8576b"
             ],
             [
              0.6666666666666666,
              "#ed7953"
             ],
             [
              0.7777777777777778,
              "#fb9f3a"
             ],
             [
              0.8888888888888888,
              "#fdca26"
             ],
             [
              1,
              "#f0f921"
             ]
            ],
            "type": "contour"
           }
          ],
          "contourcarpet": [
           {
            "colorbar": {
             "outlinewidth": 0,
             "ticks": ""
            },
            "type": "contourcarpet"
           }
          ],
          "heatmap": [
           {
            "colorbar": {
             "outlinewidth": 0,
             "ticks": ""
            },
            "colorscale": [
             [
              0,
              "#0d0887"
             ],
             [
              0.1111111111111111,
              "#46039f"
             ],
             [
              0.2222222222222222,
              "#7201a8"
             ],
             [
              0.3333333333333333,
              "#9c179e"
             ],
             [
              0.4444444444444444,
              "#bd3786"
             ],
             [
              0.5555555555555556,
              "#d8576b"
             ],
             [
              0.6666666666666666,
              "#ed7953"
             ],
             [
              0.7777777777777778,
              "#fb9f3a"
             ],
             [
              0.8888888888888888,
              "#fdca26"
             ],
             [
              1,
              "#f0f921"
             ]
            ],
            "type": "heatmap"
           }
          ],
          "heatmapgl": [
           {
            "colorbar": {
             "outlinewidth": 0,
             "ticks": ""
            },
            "colorscale": [
             [
              0,
              "#0d0887"
             ],
             [
              0.1111111111111111,
              "#46039f"
             ],
             [
              0.2222222222222222,
              "#7201a8"
             ],
             [
              0.3333333333333333,
              "#9c179e"
             ],
             [
              0.4444444444444444,
              "#bd3786"
             ],
             [
              0.5555555555555556,
              "#d8576b"
             ],
             [
              0.6666666666666666,
              "#ed7953"
             ],
             [
              0.7777777777777778,
              "#fb9f3a"
             ],
             [
              0.8888888888888888,
              "#fdca26"
             ],
             [
              1,
              "#f0f921"
             ]
            ],
            "type": "heatmapgl"
           }
          ],
          "histogram": [
           {
            "marker": {
             "pattern": {
              "fillmode": "overlay",
              "size": 10,
              "solidity": 0.2
             }
            },
            "type": "histogram"
           }
          ],
          "histogram2d": [
           {
            "colorbar": {
             "outlinewidth": 0,
             "ticks": ""
            },
            "colorscale": [
             [
              0,
              "#0d0887"
             ],
             [
              0.1111111111111111,
              "#46039f"
             ],
             [
              0.2222222222222222,
              "#7201a8"
             ],
             [
              0.3333333333333333,
              "#9c179e"
             ],
             [
              0.4444444444444444,
              "#bd3786"
             ],
             [
              0.5555555555555556,
              "#d8576b"
             ],
             [
              0.6666666666666666,
              "#ed7953"
             ],
             [
              0.7777777777777778,
              "#fb9f3a"
             ],
             [
              0.8888888888888888,
              "#fdca26"
             ],
             [
              1,
              "#f0f921"
             ]
            ],
            "type": "histogram2d"
           }
          ],
          "histogram2dcontour": [
           {
            "colorbar": {
             "outlinewidth": 0,
             "ticks": ""
            },
            "colorscale": [
             [
              0,
              "#0d0887"
             ],
             [
              0.1111111111111111,
              "#46039f"
             ],
             [
              0.2222222222222222,
              "#7201a8"
             ],
             [
              0.3333333333333333,
              "#9c179e"
             ],
             [
              0.4444444444444444,
              "#bd3786"
             ],
             [
              0.5555555555555556,
              "#d8576b"
             ],
             [
              0.6666666666666666,
              "#ed7953"
             ],
             [
              0.7777777777777778,
              "#fb9f3a"
             ],
             [
              0.8888888888888888,
              "#fdca26"
             ],
             [
              1,
              "#f0f921"
             ]
            ],
            "type": "histogram2dcontour"
           }
          ],
          "mesh3d": [
           {
            "colorbar": {
             "outlinewidth": 0,
             "ticks": ""
            },
            "type": "mesh3d"
           }
          ],
          "parcoords": [
           {
            "line": {
             "colorbar": {
              "outlinewidth": 0,
              "ticks": ""
             }
            },
            "type": "parcoords"
           }
          ],
          "pie": [
           {
            "automargin": true,
            "type": "pie"
           }
          ],
          "scatter": [
           {
            "fillpattern": {
             "fillmode": "overlay",
             "size": 10,
             "solidity": 0.2
            },
            "type": "scatter"
           }
          ],
          "scatter3d": [
           {
            "line": {
             "colorbar": {
              "outlinewidth": 0,
              "ticks": ""
             }
            },
            "marker": {
             "colorbar": {
              "outlinewidth": 0,
              "ticks": ""
             }
            },
            "type": "scatter3d"
           }
          ],
          "scattercarpet": [
           {
            "marker": {
             "colorbar": {
              "outlinewidth": 0,
              "ticks": ""
             }
            },
            "type": "scattercarpet"
           }
          ],
          "scattergeo": [
           {
            "marker": {
             "colorbar": {
              "outlinewidth": 0,
              "ticks": ""
             }
            },
            "type": "scattergeo"
           }
          ],
          "scattergl": [
           {
            "marker": {
             "colorbar": {
              "outlinewidth": 0,
              "ticks": ""
             }
            },
            "type": "scattergl"
           }
          ],
          "scattermapbox": [
           {
            "marker": {
             "colorbar": {
              "outlinewidth": 0,
              "ticks": ""
             }
            },
            "type": "scattermapbox"
           }
          ],
          "scatterpolar": [
           {
            "marker": {
             "colorbar": {
              "outlinewidth": 0,
              "ticks": ""
             }
            },
            "type": "scatterpolar"
           }
          ],
          "scatterpolargl": [
           {
            "marker": {
             "colorbar": {
              "outlinewidth": 0,
              "ticks": ""
             }
            },
            "type": "scatterpolargl"
           }
          ],
          "scatterternary": [
           {
            "marker": {
             "colorbar": {
              "outlinewidth": 0,
              "ticks": ""
             }
            },
            "type": "scatterternary"
           }
          ],
          "surface": [
           {
            "colorbar": {
             "outlinewidth": 0,
             "ticks": ""
            },
            "colorscale": [
             [
              0,
              "#0d0887"
             ],
             [
              0.1111111111111111,
              "#46039f"
             ],
             [
              0.2222222222222222,
              "#7201a8"
             ],
             [
              0.3333333333333333,
              "#9c179e"
             ],
             [
              0.4444444444444444,
              "#bd3786"
             ],
             [
              0.5555555555555556,
              "#d8576b"
             ],
             [
              0.6666666666666666,
              "#ed7953"
             ],
             [
              0.7777777777777778,
              "#fb9f3a"
             ],
             [
              0.8888888888888888,
              "#fdca26"
             ],
             [
              1,
              "#f0f921"
             ]
            ],
            "type": "surface"
           }
          ],
          "table": [
           {
            "cells": {
             "fill": {
              "color": "#EBF0F8"
             },
             "line": {
              "color": "white"
             }
            },
            "header": {
             "fill": {
              "color": "#C8D4E3"
             },
             "line": {
              "color": "white"
             }
            },
            "type": "table"
           }
          ]
         },
         "layout": {
          "annotationdefaults": {
           "arrowcolor": "#2a3f5f",
           "arrowhead": 0,
           "arrowwidth": 1
          },
          "autotypenumbers": "strict",
          "coloraxis": {
           "colorbar": {
            "outlinewidth": 0,
            "ticks": ""
           }
          },
          "colorscale": {
           "diverging": [
            [
             0,
             "#8e0152"
            ],
            [
             0.1,
             "#c51b7d"
            ],
            [
             0.2,
             "#de77ae"
            ],
            [
             0.3,
             "#f1b6da"
            ],
            [
             0.4,
             "#fde0ef"
            ],
            [
             0.5,
             "#f7f7f7"
            ],
            [
             0.6,
             "#e6f5d0"
            ],
            [
             0.7,
             "#b8e186"
            ],
            [
             0.8,
             "#7fbc41"
            ],
            [
             0.9,
             "#4d9221"
            ],
            [
             1,
             "#276419"
            ]
           ],
           "sequential": [
            [
             0,
             "#0d0887"
            ],
            [
             0.1111111111111111,
             "#46039f"
            ],
            [
             0.2222222222222222,
             "#7201a8"
            ],
            [
             0.3333333333333333,
             "#9c179e"
            ],
            [
             0.4444444444444444,
             "#bd3786"
            ],
            [
             0.5555555555555556,
             "#d8576b"
            ],
            [
             0.6666666666666666,
             "#ed7953"
            ],
            [
             0.7777777777777778,
             "#fb9f3a"
            ],
            [
             0.8888888888888888,
             "#fdca26"
            ],
            [
             1,
             "#f0f921"
            ]
           ],
           "sequentialminus": [
            [
             0,
             "#0d0887"
            ],
            [
             0.1111111111111111,
             "#46039f"
            ],
            [
             0.2222222222222222,
             "#7201a8"
            ],
            [
             0.3333333333333333,
             "#9c179e"
            ],
            [
             0.4444444444444444,
             "#bd3786"
            ],
            [
             0.5555555555555556,
             "#d8576b"
            ],
            [
             0.6666666666666666,
             "#ed7953"
            ],
            [
             0.7777777777777778,
             "#fb9f3a"
            ],
            [
             0.8888888888888888,
             "#fdca26"
            ],
            [
             1,
             "#f0f921"
            ]
           ]
          },
          "colorway": [
           "#636efa",
           "#EF553B",
           "#00cc96",
           "#ab63fa",
           "#FFA15A",
           "#19d3f3",
           "#FF6692",
           "#B6E880",
           "#FF97FF",
           "#FECB52"
          ],
          "font": {
           "color": "#2a3f5f"
          },
          "geo": {
           "bgcolor": "white",
           "lakecolor": "white",
           "landcolor": "#E5ECF6",
           "showlakes": true,
           "showland": true,
           "subunitcolor": "white"
          },
          "hoverlabel": {
           "align": "left"
          },
          "hovermode": "closest",
          "mapbox": {
           "style": "light"
          },
          "paper_bgcolor": "white",
          "plot_bgcolor": "#E5ECF6",
          "polar": {
           "angularaxis": {
            "gridcolor": "white",
            "linecolor": "white",
            "ticks": ""
           },
           "bgcolor": "#E5ECF6",
           "radialaxis": {
            "gridcolor": "white",
            "linecolor": "white",
            "ticks": ""
           }
          },
          "scene": {
           "xaxis": {
            "backgroundcolor": "#E5ECF6",
            "gridcolor": "white",
            "gridwidth": 2,
            "linecolor": "white",
            "showbackground": true,
            "ticks": "",
            "zerolinecolor": "white"
           },
           "yaxis": {
            "backgroundcolor": "#E5ECF6",
            "gridcolor": "white",
            "gridwidth": 2,
            "linecolor": "white",
            "showbackground": true,
            "ticks": "",
            "zerolinecolor": "white"
           },
           "zaxis": {
            "backgroundcolor": "#E5ECF6",
            "gridcolor": "white",
            "gridwidth": 2,
            "linecolor": "white",
            "showbackground": true,
            "ticks": "",
            "zerolinecolor": "white"
           }
          },
          "shapedefaults": {
           "line": {
            "color": "#2a3f5f"
           }
          },
          "ternary": {
           "aaxis": {
            "gridcolor": "white",
            "linecolor": "white",
            "ticks": ""
           },
           "baxis": {
            "gridcolor": "white",
            "linecolor": "white",
            "ticks": ""
           },
           "bgcolor": "#E5ECF6",
           "caxis": {
            "gridcolor": "white",
            "linecolor": "white",
            "ticks": ""
           }
          },
          "title": {
           "x": 0.05
          },
          "xaxis": {
           "automargin": true,
           "gridcolor": "white",
           "linecolor": "white",
           "ticks": "",
           "title": {
            "standoff": 15
           },
           "zerolinecolor": "white",
           "zerolinewidth": 2
          },
          "yaxis": {
           "automargin": true,
           "gridcolor": "white",
           "linecolor": "white",
           "ticks": "",
           "title": {
            "standoff": 15
           },
           "zerolinecolor": "white",
           "zerolinewidth": 2
          }
         }
        },
        "title": {
         "text": "Sentimientos en el cuento 'Lección de cocina' de Rosario Castellanos"
        },
        "width": 800,
        "xaxis": {
         "anchor": "y",
         "constrain": "domain",
         "domain": [
          0,
          1
         ],
         "scaleanchor": "y",
         "showgrid": false,
         "showticklabels": false,
         "title": {
          "text": "Oración"
         },
         "zeroline": false
        },
        "yaxis": {
         "anchor": "x",
         "autorange": "reversed",
         "constrain": "domain",
         "domain": [
          0,
          1
         ],
         "showticklabels": false,
         "title": {
          "text": "Párrafo"
         }
        }
       }
      }
     },
     "metadata": {},
     "output_type": "display_data"
    }
   ],
   "source": [
    "fig = px.imshow(sentimientos.set_index('parrafo'), labels=dict(x=\"Oración\", y=\"Párrafo\", color=\"Sentimiento\"),\n",
    "                title=f\"Sentimientos en el cuento '{titul_cuento}' de {autora}\",\n",
    "                width=800, height=800,\n",
    "                color_continuous_scale=colors_list,)\n",
    "fig.update_layout(\n",
    "    # labels\n",
    "    xaxis_title=\"Oración\",\n",
    "    yaxis_title=\"Párrafo\",\n",
    "    # legend\n",
    "    legend_title=\"Sentimiento\",\n",
    "    legend=dict(\n",
    "        orientation=\"h\",\n",
    "        yanchor=\"bottom\",\n",
    "        y=1.02,\n",
    "        xanchor=\"right\",\n",
    "        x=1\n",
    "    ),\n",
    "    # colorbar\n",
    "    coloraxis_colorbar=dict(\n",
    "        title=\"\",\n",
    "        tickvals=[-1, 0, 1],\n",
    "        ticktext=[\"Negativo\", \"Neutro\", \"Positivo\"]\n",
    "    ),\n",
    "\n",
    "    \n",
    "    plot_bgcolor='rgba(0, 0, 0, 0)',\n",
    ")\n",
    "fig.update_layout(coloraxis_showscale=True)\n",
    "# reduce size of colorbar\n",
    "fig.update_layout(coloraxis_colorbar=dict(\n",
    "    lenmode=\"pixels\", len=100,\n",
    "    yanchor=\"top\", y=0.2,\n",
    "    xanchor=\"left\", x=0.8\n",
    "))\n",
    "\n",
    "\n",
    "fig.update_xaxes(showgrid=False, zeroline=False)\n",
    "fig.update_xaxes(showticklabels=False)\n",
    "fig.update_yaxes(showticklabels=False)\n",
    "# display text in hover\n",
    "sentimientos_cualitativo = cuento_or.loc[:, cols].values\n",
    "textos_completos = cuento.loc[:, cols].values\n",
    "fig.update_traces(hovertemplate=\"<b>Oración</b>: %{x}<br><b>Párrafo</b>: %{y}<br><b>Sentimiento</b>: %{customdata[0]}<br><b>Texto</b>: %{customdata[1]}\")\n",
    "fig.update_traces(customdata=np.stack((textos_completos, sentimientos_cualitativo), axis=2))\n",
    "# fix size for hover\n",
    "fig.update_layout(hoverlabel=dict(font_size=12))\n",
    "\n",
    "\n",
    "\n",
    "fig.show()\n"
   ]
  },
  {
   "cell_type": "code",
   "execution_count": 9,
   "metadata": {},
   "outputs": [],
   "source": [
    "os.makedirs(\"viz\", exist_ok=True)\n",
    "\n",
    "fig.write_html(f\"viz/{autora}-{titul_cuento}.html\")"
   ]
  },
  {
   "cell_type": "code",
   "execution_count": 10,
   "metadata": {},
   "outputs": [
    {
     "data": {
      "text/html": [
       "<div>\n",
       "<style scoped>\n",
       "    .dataframe tbody tr th:only-of-type {\n",
       "        vertical-align: middle;\n",
       "    }\n",
       "\n",
       "    .dataframe tbody tr th {\n",
       "        vertical-align: top;\n",
       "    }\n",
       "\n",
       "    .dataframe thead th {\n",
       "        text-align: right;\n",
       "    }\n",
       "</style>\n",
       "<table border=\"1\" class=\"dataframe\">\n",
       "  <thead>\n",
       "    <tr style=\"text-align: right;\">\n",
       "      <th></th>\n",
       "      <th>sentimiento</th>\n",
       "      <th>frecuencia</th>\n",
       "    </tr>\n",
       "  </thead>\n",
       "  <tbody>\n",
       "    <tr>\n",
       "      <th>2</th>\n",
       "      <td>Positivo</td>\n",
       "      <td>17</td>\n",
       "    </tr>\n",
       "    <tr>\n",
       "      <th>1</th>\n",
       "      <td>Negativo</td>\n",
       "      <td>90</td>\n",
       "    </tr>\n",
       "    <tr>\n",
       "      <th>0</th>\n",
       "      <td>Neutro</td>\n",
       "      <td>197</td>\n",
       "    </tr>\n",
       "  </tbody>\n",
       "</table>\n",
       "</div>"
      ],
      "text/plain": [
       "  sentimiento  frecuencia\n",
       "2    Positivo          17\n",
       "1    Negativo          90\n",
       "0      Neutro         197"
      ]
     },
     "execution_count": 10,
     "metadata": {},
     "output_type": "execute_result"
    }
   ],
   "source": [
    "frecuencia_sent = pd.DataFrame({\"sentimiento\": sentimientos.values.flatten()}).value_counts().reset_index(name=\"frecuencia\")\n",
    "frecuencia_sent[\"sentimiento\"] = frecuencia_sent[\"sentimiento\"].replace({1: \"Positivo\", 0: \"Neutro\", -1: \"Negativo\"})\n",
    "frecuencia_sent = frecuencia_sent.iloc[0:3, :]\n",
    "# rearrange rows to match colors\n",
    "frecuencia_sent = frecuencia_sent.iloc[[2, 1, 0], :]\n",
    "frecuencia_sent"
   ]
  },
  {
   "cell_type": "code",
   "execution_count": 11,
   "metadata": {},
   "outputs": [
    {
     "data": {
      "application/vnd.plotly.v1+json": {
       "config": {
        "plotlyServerURL": "https://plot.ly"
       },
       "data": [
        {
         "alignmentgroup": "True",
         "hovertemplate": "sentimiento=%{x}<br>frecuencia=%{y}<extra></extra>",
         "legendgroup": "Positivo",
         "marker": {
          "color": "#ab63fa",
          "pattern": {
           "shape": ""
          }
         },
         "name": "Positivo",
         "offsetgroup": "Positivo",
         "orientation": "v",
         "showlegend": true,
         "textposition": "auto",
         "type": "bar",
         "x": [
          "Positivo"
         ],
         "xaxis": "x",
         "y": [
          17
         ],
         "yaxis": "y"
        },
        {
         "alignmentgroup": "True",
         "hovertemplate": "sentimiento=%{x}<br>frecuencia=%{y}<extra></extra>",
         "legendgroup": "Negativo",
         "marker": {
          "color": "#FFA15A",
          "pattern": {
           "shape": ""
          }
         },
         "name": "Negativo",
         "offsetgroup": "Negativo",
         "orientation": "v",
         "showlegend": true,
         "textposition": "auto",
         "type": "bar",
         "x": [
          "Negativo"
         ],
         "xaxis": "x",
         "y": [
          90
         ],
         "yaxis": "y"
        },
        {
         "alignmentgroup": "True",
         "hovertemplate": "sentimiento=%{x}<br>frecuencia=%{y}<extra></extra>",
         "legendgroup": "Neutro",
         "marker": {
          "color": "#19d3f3",
          "pattern": {
           "shape": ""
          }
         },
         "name": "Neutro",
         "offsetgroup": "Neutro",
         "orientation": "v",
         "showlegend": true,
         "textposition": "auto",
         "type": "bar",
         "x": [
          "Neutro"
         ],
         "xaxis": "x",
         "y": [
          197
         ],
         "yaxis": "y"
        }
       ],
       "layout": {
        "barmode": "relative",
        "height": 800,
        "legend": {
         "title": {
          "text": "sentimiento"
         },
         "tracegroupgap": 0
        },
        "template": {
         "data": {
          "bar": [
           {
            "error_x": {
             "color": "#2a3f5f"
            },
            "error_y": {
             "color": "#2a3f5f"
            },
            "marker": {
             "line": {
              "color": "#E5ECF6",
              "width": 0.5
             },
             "pattern": {
              "fillmode": "overlay",
              "size": 10,
              "solidity": 0.2
             }
            },
            "type": "bar"
           }
          ],
          "barpolar": [
           {
            "marker": {
             "line": {
              "color": "#E5ECF6",
              "width": 0.5
             },
             "pattern": {
              "fillmode": "overlay",
              "size": 10,
              "solidity": 0.2
             }
            },
            "type": "barpolar"
           }
          ],
          "carpet": [
           {
            "aaxis": {
             "endlinecolor": "#2a3f5f",
             "gridcolor": "white",
             "linecolor": "white",
             "minorgridcolor": "white",
             "startlinecolor": "#2a3f5f"
            },
            "baxis": {
             "endlinecolor": "#2a3f5f",
             "gridcolor": "white",
             "linecolor": "white",
             "minorgridcolor": "white",
             "startlinecolor": "#2a3f5f"
            },
            "type": "carpet"
           }
          ],
          "choropleth": [
           {
            "colorbar": {
             "outlinewidth": 0,
             "ticks": ""
            },
            "type": "choropleth"
           }
          ],
          "contour": [
           {
            "colorbar": {
             "outlinewidth": 0,
             "ticks": ""
            },
            "colorscale": [
             [
              0,
              "#0d0887"
             ],
             [
              0.1111111111111111,
              "#46039f"
             ],
             [
              0.2222222222222222,
              "#7201a8"
             ],
             [
              0.3333333333333333,
              "#9c179e"
             ],
             [
              0.4444444444444444,
              "#bd3786"
             ],
             [
              0.5555555555555556,
              "#d8576b"
             ],
             [
              0.6666666666666666,
              "#ed7953"
             ],
             [
              0.7777777777777778,
              "#fb9f3a"
             ],
             [
              0.8888888888888888,
              "#fdca26"
             ],
             [
              1,
              "#f0f921"
             ]
            ],
            "type": "contour"
           }
          ],
          "contourcarpet": [
           {
            "colorbar": {
             "outlinewidth": 0,
             "ticks": ""
            },
            "type": "contourcarpet"
           }
          ],
          "heatmap": [
           {
            "colorbar": {
             "outlinewidth": 0,
             "ticks": ""
            },
            "colorscale": [
             [
              0,
              "#0d0887"
             ],
             [
              0.1111111111111111,
              "#46039f"
             ],
             [
              0.2222222222222222,
              "#7201a8"
             ],
             [
              0.3333333333333333,
              "#9c179e"
             ],
             [
              0.4444444444444444,
              "#bd3786"
             ],
             [
              0.5555555555555556,
              "#d8576b"
             ],
             [
              0.6666666666666666,
              "#ed7953"
             ],
             [
              0.7777777777777778,
              "#fb9f3a"
             ],
             [
              0.8888888888888888,
              "#fdca26"
             ],
             [
              1,
              "#f0f921"
             ]
            ],
            "type": "heatmap"
           }
          ],
          "heatmapgl": [
           {
            "colorbar": {
             "outlinewidth": 0,
             "ticks": ""
            },
            "colorscale": [
             [
              0,
              "#0d0887"
             ],
             [
              0.1111111111111111,
              "#46039f"
             ],
             [
              0.2222222222222222,
              "#7201a8"
             ],
             [
              0.3333333333333333,
              "#9c179e"
             ],
             [
              0.4444444444444444,
              "#bd3786"
             ],
             [
              0.5555555555555556,
              "#d8576b"
             ],
             [
              0.6666666666666666,
              "#ed7953"
             ],
             [
              0.7777777777777778,
              "#fb9f3a"
             ],
             [
              0.8888888888888888,
              "#fdca26"
             ],
             [
              1,
              "#f0f921"
             ]
            ],
            "type": "heatmapgl"
           }
          ],
          "histogram": [
           {
            "marker": {
             "pattern": {
              "fillmode": "overlay",
              "size": 10,
              "solidity": 0.2
             }
            },
            "type": "histogram"
           }
          ],
          "histogram2d": [
           {
            "colorbar": {
             "outlinewidth": 0,
             "ticks": ""
            },
            "colorscale": [
             [
              0,
              "#0d0887"
             ],
             [
              0.1111111111111111,
              "#46039f"
             ],
             [
              0.2222222222222222,
              "#7201a8"
             ],
             [
              0.3333333333333333,
              "#9c179e"
             ],
             [
              0.4444444444444444,
              "#bd3786"
             ],
             [
              0.5555555555555556,
              "#d8576b"
             ],
             [
              0.6666666666666666,
              "#ed7953"
             ],
             [
              0.7777777777777778,
              "#fb9f3a"
             ],
             [
              0.8888888888888888,
              "#fdca26"
             ],
             [
              1,
              "#f0f921"
             ]
            ],
            "type": "histogram2d"
           }
          ],
          "histogram2dcontour": [
           {
            "colorbar": {
             "outlinewidth": 0,
             "ticks": ""
            },
            "colorscale": [
             [
              0,
              "#0d0887"
             ],
             [
              0.1111111111111111,
              "#46039f"
             ],
             [
              0.2222222222222222,
              "#7201a8"
             ],
             [
              0.3333333333333333,
              "#9c179e"
             ],
             [
              0.4444444444444444,
              "#bd3786"
             ],
             [
              0.5555555555555556,
              "#d8576b"
             ],
             [
              0.6666666666666666,
              "#ed7953"
             ],
             [
              0.7777777777777778,
              "#fb9f3a"
             ],
             [
              0.8888888888888888,
              "#fdca26"
             ],
             [
              1,
              "#f0f921"
             ]
            ],
            "type": "histogram2dcontour"
           }
          ],
          "mesh3d": [
           {
            "colorbar": {
             "outlinewidth": 0,
             "ticks": ""
            },
            "type": "mesh3d"
           }
          ],
          "parcoords": [
           {
            "line": {
             "colorbar": {
              "outlinewidth": 0,
              "ticks": ""
             }
            },
            "type": "parcoords"
           }
          ],
          "pie": [
           {
            "automargin": true,
            "type": "pie"
           }
          ],
          "scatter": [
           {
            "fillpattern": {
             "fillmode": "overlay",
             "size": 10,
             "solidity": 0.2
            },
            "type": "scatter"
           }
          ],
          "scatter3d": [
           {
            "line": {
             "colorbar": {
              "outlinewidth": 0,
              "ticks": ""
             }
            },
            "marker": {
             "colorbar": {
              "outlinewidth": 0,
              "ticks": ""
             }
            },
            "type": "scatter3d"
           }
          ],
          "scattercarpet": [
           {
            "marker": {
             "colorbar": {
              "outlinewidth": 0,
              "ticks": ""
             }
            },
            "type": "scattercarpet"
           }
          ],
          "scattergeo": [
           {
            "marker": {
             "colorbar": {
              "outlinewidth": 0,
              "ticks": ""
             }
            },
            "type": "scattergeo"
           }
          ],
          "scattergl": [
           {
            "marker": {
             "colorbar": {
              "outlinewidth": 0,
              "ticks": ""
             }
            },
            "type": "scattergl"
           }
          ],
          "scattermapbox": [
           {
            "marker": {
             "colorbar": {
              "outlinewidth": 0,
              "ticks": ""
             }
            },
            "type": "scattermapbox"
           }
          ],
          "scatterpolar": [
           {
            "marker": {
             "colorbar": {
              "outlinewidth": 0,
              "ticks": ""
             }
            },
            "type": "scatterpolar"
           }
          ],
          "scatterpolargl": [
           {
            "marker": {
             "colorbar": {
              "outlinewidth": 0,
              "ticks": ""
             }
            },
            "type": "scatterpolargl"
           }
          ],
          "scatterternary": [
           {
            "marker": {
             "colorbar": {
              "outlinewidth": 0,
              "ticks": ""
             }
            },
            "type": "scatterternary"
           }
          ],
          "surface": [
           {
            "colorbar": {
             "outlinewidth": 0,
             "ticks": ""
            },
            "colorscale": [
             [
              0,
              "#0d0887"
             ],
             [
              0.1111111111111111,
              "#46039f"
             ],
             [
              0.2222222222222222,
              "#7201a8"
             ],
             [
              0.3333333333333333,
              "#9c179e"
             ],
             [
              0.4444444444444444,
              "#bd3786"
             ],
             [
              0.5555555555555556,
              "#d8576b"
             ],
             [
              0.6666666666666666,
              "#ed7953"
             ],
             [
              0.7777777777777778,
              "#fb9f3a"
             ],
             [
              0.8888888888888888,
              "#fdca26"
             ],
             [
              1,
              "#f0f921"
             ]
            ],
            "type": "surface"
           }
          ],
          "table": [
           {
            "cells": {
             "fill": {
              "color": "#EBF0F8"
             },
             "line": {
              "color": "white"
             }
            },
            "header": {
             "fill": {
              "color": "#C8D4E3"
             },
             "line": {
              "color": "white"
             }
            },
            "type": "table"
           }
          ]
         },
         "layout": {
          "annotationdefaults": {
           "arrowcolor": "#2a3f5f",
           "arrowhead": 0,
           "arrowwidth": 1
          },
          "autotypenumbers": "strict",
          "coloraxis": {
           "colorbar": {
            "outlinewidth": 0,
            "ticks": ""
           }
          },
          "colorscale": {
           "diverging": [
            [
             0,
             "#8e0152"
            ],
            [
             0.1,
             "#c51b7d"
            ],
            [
             0.2,
             "#de77ae"
            ],
            [
             0.3,
             "#f1b6da"
            ],
            [
             0.4,
             "#fde0ef"
            ],
            [
             0.5,
             "#f7f7f7"
            ],
            [
             0.6,
             "#e6f5d0"
            ],
            [
             0.7,
             "#b8e186"
            ],
            [
             0.8,
             "#7fbc41"
            ],
            [
             0.9,
             "#4d9221"
            ],
            [
             1,
             "#276419"
            ]
           ],
           "sequential": [
            [
             0,
             "#0d0887"
            ],
            [
             0.1111111111111111,
             "#46039f"
            ],
            [
             0.2222222222222222,
             "#7201a8"
            ],
            [
             0.3333333333333333,
             "#9c179e"
            ],
            [
             0.4444444444444444,
             "#bd3786"
            ],
            [
             0.5555555555555556,
             "#d8576b"
            ],
            [
             0.6666666666666666,
             "#ed7953"
            ],
            [
             0.7777777777777778,
             "#fb9f3a"
            ],
            [
             0.8888888888888888,
             "#fdca26"
            ],
            [
             1,
             "#f0f921"
            ]
           ],
           "sequentialminus": [
            [
             0,
             "#0d0887"
            ],
            [
             0.1111111111111111,
             "#46039f"
            ],
            [
             0.2222222222222222,
             "#7201a8"
            ],
            [
             0.3333333333333333,
             "#9c179e"
            ],
            [
             0.4444444444444444,
             "#bd3786"
            ],
            [
             0.5555555555555556,
             "#d8576b"
            ],
            [
             0.6666666666666666,
             "#ed7953"
            ],
            [
             0.7777777777777778,
             "#fb9f3a"
            ],
            [
             0.8888888888888888,
             "#fdca26"
            ],
            [
             1,
             "#f0f921"
            ]
           ]
          },
          "colorway": [
           "#636efa",
           "#EF553B",
           "#00cc96",
           "#ab63fa",
           "#FFA15A",
           "#19d3f3",
           "#FF6692",
           "#B6E880",
           "#FF97FF",
           "#FECB52"
          ],
          "font": {
           "color": "#2a3f5f"
          },
          "geo": {
           "bgcolor": "white",
           "lakecolor": "white",
           "landcolor": "#E5ECF6",
           "showlakes": true,
           "showland": true,
           "subunitcolor": "white"
          },
          "hoverlabel": {
           "align": "left"
          },
          "hovermode": "closest",
          "mapbox": {
           "style": "light"
          },
          "paper_bgcolor": "white",
          "plot_bgcolor": "#E5ECF6",
          "polar": {
           "angularaxis": {
            "gridcolor": "white",
            "linecolor": "white",
            "ticks": ""
           },
           "bgcolor": "#E5ECF6",
           "radialaxis": {
            "gridcolor": "white",
            "linecolor": "white",
            "ticks": ""
           }
          },
          "scene": {
           "xaxis": {
            "backgroundcolor": "#E5ECF6",
            "gridcolor": "white",
            "gridwidth": 2,
            "linecolor": "white",
            "showbackground": true,
            "ticks": "",
            "zerolinecolor": "white"
           },
           "yaxis": {
            "backgroundcolor": "#E5ECF6",
            "gridcolor": "white",
            "gridwidth": 2,
            "linecolor": "white",
            "showbackground": true,
            "ticks": "",
            "zerolinecolor": "white"
           },
           "zaxis": {
            "backgroundcolor": "#E5ECF6",
            "gridcolor": "white",
            "gridwidth": 2,
            "linecolor": "white",
            "showbackground": true,
            "ticks": "",
            "zerolinecolor": "white"
           }
          },
          "shapedefaults": {
           "line": {
            "color": "#2a3f5f"
           }
          },
          "ternary": {
           "aaxis": {
            "gridcolor": "white",
            "linecolor": "white",
            "ticks": ""
           },
           "baxis": {
            "gridcolor": "white",
            "linecolor": "white",
            "ticks": ""
           },
           "bgcolor": "#E5ECF6",
           "caxis": {
            "gridcolor": "white",
            "linecolor": "white",
            "ticks": ""
           }
          },
          "title": {
           "x": 0.05
          },
          "xaxis": {
           "automargin": true,
           "gridcolor": "white",
           "linecolor": "white",
           "ticks": "",
           "title": {
            "standoff": 15
           },
           "zerolinecolor": "white",
           "zerolinewidth": 2
          },
          "yaxis": {
           "automargin": true,
           "gridcolor": "white",
           "linecolor": "white",
           "ticks": "",
           "title": {
            "standoff": 15
           },
           "zerolinecolor": "white",
           "zerolinewidth": 2
          }
         }
        },
        "title": {
         "text": "Frecuencia de sentimientos en el cuento 'Lección de cocina' de Rosario Castellanos"
        },
        "width": 800,
        "xaxis": {
         "anchor": "y",
         "categoryarray": [
          "Positivo",
          "Negativo",
          "Neutro"
         ],
         "categoryorder": "array",
         "domain": [
          0,
          1
         ],
         "title": {
          "text": "sentimiento"
         }
        },
        "yaxis": {
         "anchor": "x",
         "domain": [
          0,
          1
         ],
         "title": {
          "text": "frecuencia"
         }
        }
       }
      }
     },
     "metadata": {},
     "output_type": "display_data"
    }
   ],
   "source": [
    "fig2 = px.bar(frecuencia_sent, x=\"sentimiento\", y=\"frecuencia\", color=\"sentimiento\",\n",
    "                title=f\"Frecuencia de sentimientos en el cuento '{titul_cuento}' de {autora}\",\n",
    "                width=800, height=800,\n",
    "                color_discrete_map=colors)\n",
    "\n",
    "fig2.show()"
   ]
  },
  {
   "cell_type": "code",
   "execution_count": 12,
   "metadata": {},
   "outputs": [],
   "source": [
    "fig2.write_html(f\"viz/{autora}-{titul_cuento}-frec.html\")"
   ]
  }
 ],
 "metadata": {
  "kernelspec": {
   "display_name": "Python 3.10.4 ('sentiment': venv)",
   "language": "python",
   "name": "python3"
  },
  "language_info": {
   "codemirror_mode": {
    "name": "ipython",
    "version": 3
   },
   "file_extension": ".py",
   "mimetype": "text/x-python",
   "name": "python",
   "nbconvert_exporter": "python",
   "pygments_lexer": "ipython3",
   "version": "3.10.4"
  },
  "orig_nbformat": 4,
  "vscode": {
   "interpreter": {
    "hash": "d07329c4ed847d72b60602432573c138b49aa70a2d0a517c034d80efadb878b1"
   }
  }
 },
 "nbformat": 4,
 "nbformat_minor": 2
}
